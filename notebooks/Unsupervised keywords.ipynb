{
 "cells": [
  {
   "cell_type": "code",
   "execution_count": 1,
   "id": "69dd680f",
   "metadata": {},
   "outputs": [],
   "source": [
    "from sklearn.metrics import silhouette_samples, silhouette_score\n",
    "from sklearn.feature_extraction.text import TfidfVectorizer\n",
    "from sklearn.feature_extraction.text import CountVectorizer\n",
    "from sklearn.cluster import KMeans\n",
    "from nltk.corpus import stopwords\n",
    "import matplotlib.pyplot as plt\n",
    "from bs4 import BeautifulSoup\n",
    "from sklearn import metrics\n",
    "import matplotlib.cm as cm\n",
    "import pandas as pd\n",
    "import numpy as np\n",
    "import random\n",
    "import nltk\n",
    "import re\n",
    "import mlflow"
   ]
  },
  {
   "cell_type": "code",
   "execution_count": 2,
   "id": "d2d40f53",
   "metadata": {},
   "outputs": [],
   "source": [
    "text = 'Why is processing a sorted array faster than processing an unsorted array? - In this C++ code, sorting the data (before the timed region) makes the primary loop ~6x faster:'"
   ]
  },
  {
   "cell_type": "code",
   "execution_count": 54,
   "id": "34c11005",
   "metadata": {},
   "outputs": [],
   "source": [
    "def cleanhtml(sentence): #function to clean the word of any html-tags\n",
    "    cleanr = re.compile('<.*?>')\n",
    "    cleantext = re.sub(cleanr, ' ', sentence)\n",
    "    return cleantext\n",
    "\n",
    "def cleanpunc(sentence): #function to clean the word of any punctuation or special characters\n",
    "    cleaned = re.sub(r'[?|!|\\'|\"|#]',r'',sentence)\n",
    "    cleaned = re.sub(r'[.|,|)|(|\\|/]',r' ',cleaned)\n",
    "    return  cleaned\n",
    "\n",
    "def stem(text: str):\n",
    "    sno = nltk.stem.SnowballStemmer('english') #initialising the snowball stemmer which is developed in recent years\n",
    "    stop=set(stopwords.words('english'))\n",
    "\n",
    "    str1=' '\n",
    "    final_string=[]\n",
    "    s=''\n",
    "\n",
    "    filtered_sentence=[]\n",
    "    #print(sent);\n",
    "    sent=cleanhtml(text) # remove HTMl tags\n",
    "    for w in sent.split():\n",
    "        for cleaned_words in cleanpunc(w).split():\n",
    "            if((cleaned_words.isalpha()) & (len(cleaned_words)>2)):    \n",
    "                if(cleaned_words.lower() not in stop):\n",
    "                    s=(sno.stem(cleaned_words.lower())).encode('utf8')\n",
    "                    filtered_sentence.append(s)\n",
    "                else:\n",
    "                    continue\n",
    "            else:\n",
    "                continue \n",
    "    #print(filtered_sentence)\n",
    "    str1 = b\" \".join(filtered_sentence) #final string of cleaned words\n",
    "    #print(\"***********************************************************************\")\n",
    "\n",
    "    final_string.append(str1)\n",
    "\n",
    "    return pd.Series(final_string[0].decode('utf8'))"
   ]
  },
  {
   "cell_type": "code",
   "execution_count": 55,
   "id": "44663c11",
   "metadata": {},
   "outputs": [],
   "source": [
    "processed_text = stem(text)"
   ]
  },
  {
   "cell_type": "code",
   "execution_count": 77,
   "id": "e18009c0",
   "metadata": {},
   "outputs": [],
   "source": [
    "from sklearn.pipeline import make_pipeline\n",
    "from sklearn.preprocessing import FunctionTransformer\n",
    "import numpy as np"
   ]
  },
  {
   "cell_type": "code",
   "execution_count": 78,
   "id": "26fa5700",
   "metadata": {},
   "outputs": [],
   "source": [
    "transformer = FunctionTransformer(stem)"
   ]
  },
  {
   "cell_type": "code",
   "execution_count": 79,
   "id": "486cc87c",
   "metadata": {},
   "outputs": [
    {
     "data": {
      "text/html": [
       "<style>#sk-container-id-5 {color: black;background-color: white;}#sk-container-id-5 pre{padding: 0;}#sk-container-id-5 div.sk-toggleable {background-color: white;}#sk-container-id-5 label.sk-toggleable__label {cursor: pointer;display: block;width: 100%;margin-bottom: 0;padding: 0.3em;box-sizing: border-box;text-align: center;}#sk-container-id-5 label.sk-toggleable__label-arrow:before {content: \"▸\";float: left;margin-right: 0.25em;color: #696969;}#sk-container-id-5 label.sk-toggleable__label-arrow:hover:before {color: black;}#sk-container-id-5 div.sk-estimator:hover label.sk-toggleable__label-arrow:before {color: black;}#sk-container-id-5 div.sk-toggleable__content {max-height: 0;max-width: 0;overflow: hidden;text-align: left;background-color: #f0f8ff;}#sk-container-id-5 div.sk-toggleable__content pre {margin: 0.2em;color: black;border-radius: 0.25em;background-color: #f0f8ff;}#sk-container-id-5 input.sk-toggleable__control:checked~div.sk-toggleable__content {max-height: 200px;max-width: 100%;overflow: auto;}#sk-container-id-5 input.sk-toggleable__control:checked~label.sk-toggleable__label-arrow:before {content: \"▾\";}#sk-container-id-5 div.sk-estimator input.sk-toggleable__control:checked~label.sk-toggleable__label {background-color: #d4ebff;}#sk-container-id-5 div.sk-label input.sk-toggleable__control:checked~label.sk-toggleable__label {background-color: #d4ebff;}#sk-container-id-5 input.sk-hidden--visually {border: 0;clip: rect(1px 1px 1px 1px);clip: rect(1px, 1px, 1px, 1px);height: 1px;margin: -1px;overflow: hidden;padding: 0;position: absolute;width: 1px;}#sk-container-id-5 div.sk-estimator {font-family: monospace;background-color: #f0f8ff;border: 1px dotted black;border-radius: 0.25em;box-sizing: border-box;margin-bottom: 0.5em;}#sk-container-id-5 div.sk-estimator:hover {background-color: #d4ebff;}#sk-container-id-5 div.sk-parallel-item::after {content: \"\";width: 100%;border-bottom: 1px solid gray;flex-grow: 1;}#sk-container-id-5 div.sk-label:hover label.sk-toggleable__label {background-color: #d4ebff;}#sk-container-id-5 div.sk-serial::before {content: \"\";position: absolute;border-left: 1px solid gray;box-sizing: border-box;top: 0;bottom: 0;left: 50%;z-index: 0;}#sk-container-id-5 div.sk-serial {display: flex;flex-direction: column;align-items: center;background-color: white;padding-right: 0.2em;padding-left: 0.2em;position: relative;}#sk-container-id-5 div.sk-item {position: relative;z-index: 1;}#sk-container-id-5 div.sk-parallel {display: flex;align-items: stretch;justify-content: center;background-color: white;position: relative;}#sk-container-id-5 div.sk-item::before, #sk-container-id-5 div.sk-parallel-item::before {content: \"\";position: absolute;border-left: 1px solid gray;box-sizing: border-box;top: 0;bottom: 0;left: 50%;z-index: -1;}#sk-container-id-5 div.sk-parallel-item {display: flex;flex-direction: column;z-index: 1;position: relative;background-color: white;}#sk-container-id-5 div.sk-parallel-item:first-child::after {align-self: flex-end;width: 50%;}#sk-container-id-5 div.sk-parallel-item:last-child::after {align-self: flex-start;width: 50%;}#sk-container-id-5 div.sk-parallel-item:only-child::after {width: 0;}#sk-container-id-5 div.sk-dashed-wrapped {border: 1px dashed gray;margin: 0 0.4em 0.5em 0.4em;box-sizing: border-box;padding-bottom: 0.4em;background-color: white;}#sk-container-id-5 div.sk-label label {font-family: monospace;font-weight: bold;display: inline-block;line-height: 1.2em;}#sk-container-id-5 div.sk-label-container {text-align: center;}#sk-container-id-5 div.sk-container {/* jupyter's `normalize.less` sets `[hidden] { display: none; }` but bootstrap.min.css set `[hidden] { display: none !important; }` so we also need the `!important` here to be able to override the default hidden behavior on the sphinx rendered scikit-learn.org. See: https://github.com/scikit-learn/scikit-learn/issues/21755 */display: inline-block !important;position: relative;}#sk-container-id-5 div.sk-text-repr-fallback {display: none;}</style><div id=\"sk-container-id-5\" class=\"sk-top-container\"><div class=\"sk-text-repr-fallback\"><pre>FunctionTransformer(func=&lt;function stem at 0x7f19ed162dc0&gt;)</pre><b>In a Jupyter environment, please rerun this cell to show the HTML representation or trust the notebook. <br />On GitHub, the HTML representation is unable to render, please try loading this page with nbviewer.org.</b></div><div class=\"sk-container\" hidden><div class=\"sk-item\"><div class=\"sk-estimator sk-toggleable\"><input class=\"sk-toggleable__control sk-hidden--visually\" id=\"sk-estimator-id-7\" type=\"checkbox\" checked><label for=\"sk-estimator-id-7\" class=\"sk-toggleable__label sk-toggleable__label-arrow\">FunctionTransformer</label><div class=\"sk-toggleable__content\"><pre>FunctionTransformer(func=&lt;function stem at 0x7f19ed162dc0&gt;)</pre></div></div></div></div></div>"
      ],
      "text/plain": [
       "FunctionTransformer(func=<function stem at 0x7f19ed162dc0>)"
      ]
     },
     "execution_count": 79,
     "metadata": {},
     "output_type": "execute_result"
    }
   ],
   "source": [
    "transformer"
   ]
  },
  {
   "cell_type": "code",
   "execution_count": 80,
   "id": "ac18c5b5",
   "metadata": {
    "scrolled": true
   },
   "outputs": [],
   "source": [
    "ntm = make_pipeline(transformer)"
   ]
  },
  {
   "cell_type": "code",
   "execution_count": 81,
   "id": "67711817",
   "metadata": {
    "scrolled": true
   },
   "outputs": [
    {
     "data": {
      "text/plain": [
       "0    process sort array faster process unsort array...\n",
       "dtype: object"
      ]
     },
     "execution_count": 81,
     "metadata": {},
     "output_type": "execute_result"
    }
   ],
   "source": [
    "ntm.transform(text)"
   ]
  },
  {
   "cell_type": "code",
   "execution_count": 84,
   "id": "7fd98854",
   "metadata": {},
   "outputs": [],
   "source": [
    "import pickle\n",
    "pickle.dump(ntm, open('transfo.pkl', 'wb'))\n"
   ]
  },
  {
   "cell_type": "code",
   "execution_count": 2,
   "id": "8c5c3346",
   "metadata": {},
   "outputs": [],
   "source": [
    "# import data\n",
    "df = pd.read_csv('dara.csv')  "
   ]
  },
  {
   "cell_type": "code",
   "execution_count": 3,
   "id": "774c7314",
   "metadata": {
    "scrolled": true
   },
   "outputs": [],
   "source": [
    "df = df.rename(columns={'0': 'title', '1': 'body', '2': 'tags'})"
   ]
  },
  {
   "cell_type": "code",
   "execution_count": 4,
   "id": "a00c5c73",
   "metadata": {},
   "outputs": [
    {
     "data": {
      "text/html": [
       "<div>\n",
       "<style scoped>\n",
       "    .dataframe tbody tr th:only-of-type {\n",
       "        vertical-align: middle;\n",
       "    }\n",
       "\n",
       "    .dataframe tbody tr th {\n",
       "        vertical-align: top;\n",
       "    }\n",
       "\n",
       "    .dataframe thead th {\n",
       "        text-align: right;\n",
       "    }\n",
       "</style>\n",
       "<table border=\"1\" class=\"dataframe\">\n",
       "  <thead>\n",
       "    <tr style=\"text-align: right;\">\n",
       "      <th></th>\n",
       "      <th>Title</th>\n",
       "      <th>Body</th>\n",
       "      <th>Tags</th>\n",
       "    </tr>\n",
       "  </thead>\n",
       "  <tbody>\n",
       "    <tr>\n",
       "      <th>0</th>\n",
       "      <td>efficient way to implement paging</td>\n",
       "      <td>&lt;p&gt;Should I use LINQ's &lt;code&gt;Skip()&lt;/code&gt; and...</td>\n",
       "      <td>&lt;sql&gt;&lt;sql-server&gt;&lt;asp.net-mvc&gt;&lt;linq-to-sql&gt;&lt;pa...</td>\n",
       "    </tr>\n",
       "    <tr>\n",
       "      <th>1</th>\n",
       "      <td>What does variable names beginning with _ mean?</td>\n",
       "      <td>&lt;p&gt;When writing my first asp.net MVC applicati...</td>\n",
       "      <td>&lt;c#&gt;&lt;asp.net&gt;&lt;syntax&gt;&lt;variables&gt;&lt;naming-conven...</td>\n",
       "    </tr>\n",
       "    <tr>\n",
       "      <th>2</th>\n",
       "      <td>Is it valid to replace http:// with // in a &lt;s...</td>\n",
       "      <td>&lt;p&gt;I have the following element:&lt;/p&gt;\\n\\n&lt;pre&gt;&lt;...</td>\n",
       "      <td>&lt;html&gt;&lt;http&gt;&lt;https&gt;&lt;uri&gt;&lt;protocol-relative&gt;</td>\n",
       "    </tr>\n",
       "    <tr>\n",
       "      <th>3</th>\n",
       "      <td>Will new return NULL in any case?</td>\n",
       "      <td>&lt;p&gt;I know that according to C++ standard in ca...</td>\n",
       "      <td>&lt;c++&gt;&lt;visual-c++&gt;&lt;memory-management&gt;&lt;new-opera...</td>\n",
       "    </tr>\n",
       "    <tr>\n",
       "      <th>4</th>\n",
       "      <td>Convert float to string in positional format (...</td>\n",
       "      <td>&lt;p&gt;I want to print some floating point numbers...</td>\n",
       "      <td>&lt;python&gt;&lt;python-3.x&gt;&lt;floating-point&gt;&lt;number-fo...</td>\n",
       "    </tr>\n",
       "    <tr>\n",
       "      <th>...</th>\n",
       "      <td>...</td>\n",
       "      <td>...</td>\n",
       "      <td>...</td>\n",
       "    </tr>\n",
       "    <tr>\n",
       "      <th>17667</th>\n",
       "      <td>Cross-Origin-Opener-Policy policy would block ...</td>\n",
       "      <td>&lt;p&gt;I am using firebase and its google auth too...</td>\n",
       "      <td>&lt;firebase&gt;&lt;next.js&gt;&lt;oauth-2.0&gt;&lt;firebase-authen...</td>\n",
       "    </tr>\n",
       "    <tr>\n",
       "      <th>17668</th>\n",
       "      <td>VSC PowerShell. After npm updating packages .p...</td>\n",
       "      <td>&lt;p&gt;I design websites in VSC and PowerShell is ...</td>\n",
       "      <td>&lt;firebase&gt;&lt;powershell&gt;&lt;vue.js&gt;&lt;npm&gt;&lt;visual-stu...</td>\n",
       "    </tr>\n",
       "    <tr>\n",
       "      <th>17669</th>\n",
       "      <td>How to force GCC to assume that a floating-poi...</td>\n",
       "      <td>&lt;p&gt;There are cases where you know that a certa...</td>\n",
       "      <td>&lt;c++&gt;&lt;gcc&gt;&lt;assembly&gt;&lt;floating-point&gt;&lt;micro-opt...</td>\n",
       "    </tr>\n",
       "    <tr>\n",
       "      <th>17670</th>\n",
       "      <td>Jupyter command `jupyter-lab` not found</td>\n",
       "      <td>&lt;p&gt;I have tried to install jupyter lab on my K...</td>\n",
       "      <td>&lt;python&gt;&lt;python-3.x&gt;&lt;jupyter-notebook&gt;&lt;jupyter...</td>\n",
       "    </tr>\n",
       "    <tr>\n",
       "      <th>17671</th>\n",
       "      <td>\"Do Not Embed\", \"Embed &amp; Sign\", \"Embed Without...</td>\n",
       "      <td>&lt;p&gt;We have 3 new options in \"Frameworks, Libra...</td>\n",
       "      <td>&lt;ios&gt;&lt;frameworks&gt;&lt;static-libraries&gt;&lt;xcode11&gt;&lt;d...</td>\n",
       "    </tr>\n",
       "  </tbody>\n",
       "</table>\n",
       "<p>17672 rows × 3 columns</p>\n",
       "</div>"
      ],
      "text/plain": [
       "                                                   Title  \\\n",
       "0                      efficient way to implement paging   \n",
       "1        What does variable names beginning with _ mean?   \n",
       "2      Is it valid to replace http:// with // in a <s...   \n",
       "3                      Will new return NULL in any case?   \n",
       "4      Convert float to string in positional format (...   \n",
       "...                                                  ...   \n",
       "17667  Cross-Origin-Opener-Policy policy would block ...   \n",
       "17668  VSC PowerShell. After npm updating packages .p...   \n",
       "17669  How to force GCC to assume that a floating-poi...   \n",
       "17670            Jupyter command `jupyter-lab` not found   \n",
       "17671  \"Do Not Embed\", \"Embed & Sign\", \"Embed Without...   \n",
       "\n",
       "                                                    Body  \\\n",
       "0      <p>Should I use LINQ's <code>Skip()</code> and...   \n",
       "1      <p>When writing my first asp.net MVC applicati...   \n",
       "2      <p>I have the following element:</p>\\n\\n<pre><...   \n",
       "3      <p>I know that according to C++ standard in ca...   \n",
       "4      <p>I want to print some floating point numbers...   \n",
       "...                                                  ...   \n",
       "17667  <p>I am using firebase and its google auth too...   \n",
       "17668  <p>I design websites in VSC and PowerShell is ...   \n",
       "17669  <p>There are cases where you know that a certa...   \n",
       "17670  <p>I have tried to install jupyter lab on my K...   \n",
       "17671  <p>We have 3 new options in \"Frameworks, Libra...   \n",
       "\n",
       "                                                    Tags  \n",
       "0      <sql><sql-server><asp.net-mvc><linq-to-sql><pa...  \n",
       "1      <c#><asp.net><syntax><variables><naming-conven...  \n",
       "2            <html><http><https><uri><protocol-relative>  \n",
       "3      <c++><visual-c++><memory-management><new-opera...  \n",
       "4      <python><python-3.x><floating-point><number-fo...  \n",
       "...                                                  ...  \n",
       "17667  <firebase><next.js><oauth-2.0><firebase-authen...  \n",
       "17668  <firebase><powershell><vue.js><npm><visual-stu...  \n",
       "17669  <c++><gcc><assembly><floating-point><micro-opt...  \n",
       "17670  <python><python-3.x><jupyter-notebook><jupyter...  \n",
       "17671  <ios><frameworks><static-libraries><xcode11><d...  \n",
       "\n",
       "[17672 rows x 3 columns]"
      ]
     },
     "execution_count": 4,
     "metadata": {},
     "output_type": "execute_result"
    }
   ],
   "source": [
    "df"
   ]
  },
  {
   "cell_type": "code",
   "execution_count": 5,
   "id": "a5ea348c",
   "metadata": {},
   "outputs": [
    {
     "name": "stderr",
     "output_type": "stream",
     "text": [
      "/home/marzime/.pyenv/versions/3.8.12/envs/simplon/lib/python3.8/site-packages/bs4/__init__.py:435: MarkupResemblesLocatorWarning: The input looks more like a filename than markup. You may want to open this file and pass the filehandle into Beautiful Soup.\n",
      "  warnings.warn(\n"
     ]
    }
   ],
   "source": [
    "df['text'] = df['Title'].apply(lambda s: BeautifulSoup(s).text) + ' - ' + df['Body'].apply(lambda s: BeautifulSoup(s).text)"
   ]
  },
  {
   "cell_type": "code",
   "execution_count": 6,
   "id": "6ad0442a",
   "metadata": {
    "scrolled": false
   },
   "outputs": [
    {
     "data": {
      "text/html": [
       "<div>\n",
       "<style scoped>\n",
       "    .dataframe tbody tr th:only-of-type {\n",
       "        vertical-align: middle;\n",
       "    }\n",
       "\n",
       "    .dataframe tbody tr th {\n",
       "        vertical-align: top;\n",
       "    }\n",
       "\n",
       "    .dataframe thead th {\n",
       "        text-align: right;\n",
       "    }\n",
       "</style>\n",
       "<table border=\"1\" class=\"dataframe\">\n",
       "  <thead>\n",
       "    <tr style=\"text-align: right;\">\n",
       "      <th></th>\n",
       "      <th>Title</th>\n",
       "      <th>Body</th>\n",
       "      <th>Tags</th>\n",
       "      <th>text</th>\n",
       "    </tr>\n",
       "  </thead>\n",
       "  <tbody>\n",
       "    <tr>\n",
       "      <th>0</th>\n",
       "      <td>efficient way to implement paging</td>\n",
       "      <td>&lt;p&gt;Should I use LINQ's &lt;code&gt;Skip()&lt;/code&gt; and...</td>\n",
       "      <td>&lt;sql&gt;&lt;sql-server&gt;&lt;asp.net-mvc&gt;&lt;linq-to-sql&gt;&lt;pa...</td>\n",
       "      <td>efficient way to implement paging - Should I u...</td>\n",
       "    </tr>\n",
       "    <tr>\n",
       "      <th>1</th>\n",
       "      <td>What does variable names beginning with _ mean?</td>\n",
       "      <td>&lt;p&gt;When writing my first asp.net MVC applicati...</td>\n",
       "      <td>&lt;c#&gt;&lt;asp.net&gt;&lt;syntax&gt;&lt;variables&gt;&lt;naming-conven...</td>\n",
       "      <td>What does variable names beginning with _ mean...</td>\n",
       "    </tr>\n",
       "    <tr>\n",
       "      <th>2</th>\n",
       "      <td>Is it valid to replace http:// with // in a &lt;s...</td>\n",
       "      <td>&lt;p&gt;I have the following element:&lt;/p&gt;\\n\\n&lt;pre&gt;&lt;...</td>\n",
       "      <td>&lt;html&gt;&lt;http&gt;&lt;https&gt;&lt;uri&gt;&lt;protocol-relative&gt;</td>\n",
       "      <td>Is it valid to replace http:// with // in a  -...</td>\n",
       "    </tr>\n",
       "    <tr>\n",
       "      <th>3</th>\n",
       "      <td>Will new return NULL in any case?</td>\n",
       "      <td>&lt;p&gt;I know that according to C++ standard in ca...</td>\n",
       "      <td>&lt;c++&gt;&lt;visual-c++&gt;&lt;memory-management&gt;&lt;new-opera...</td>\n",
       "      <td>Will new return NULL in any case? - I know tha...</td>\n",
       "    </tr>\n",
       "    <tr>\n",
       "      <th>4</th>\n",
       "      <td>Convert float to string in positional format (...</td>\n",
       "      <td>&lt;p&gt;I want to print some floating point numbers...</td>\n",
       "      <td>&lt;python&gt;&lt;python-3.x&gt;&lt;floating-point&gt;&lt;number-fo...</td>\n",
       "      <td>Convert float to string in positional format (...</td>\n",
       "    </tr>\n",
       "    <tr>\n",
       "      <th>...</th>\n",
       "      <td>...</td>\n",
       "      <td>...</td>\n",
       "      <td>...</td>\n",
       "      <td>...</td>\n",
       "    </tr>\n",
       "    <tr>\n",
       "      <th>17667</th>\n",
       "      <td>Cross-Origin-Opener-Policy policy would block ...</td>\n",
       "      <td>&lt;p&gt;I am using firebase and its google auth too...</td>\n",
       "      <td>&lt;firebase&gt;&lt;next.js&gt;&lt;oauth-2.0&gt;&lt;firebase-authen...</td>\n",
       "      <td>Cross-Origin-Opener-Policy policy would block ...</td>\n",
       "    </tr>\n",
       "    <tr>\n",
       "      <th>17668</th>\n",
       "      <td>VSC PowerShell. After npm updating packages .p...</td>\n",
       "      <td>&lt;p&gt;I design websites in VSC and PowerShell is ...</td>\n",
       "      <td>&lt;firebase&gt;&lt;powershell&gt;&lt;vue.js&gt;&lt;npm&gt;&lt;visual-stu...</td>\n",
       "      <td>VSC PowerShell. After npm updating packages .p...</td>\n",
       "    </tr>\n",
       "    <tr>\n",
       "      <th>17669</th>\n",
       "      <td>How to force GCC to assume that a floating-poi...</td>\n",
       "      <td>&lt;p&gt;There are cases where you know that a certa...</td>\n",
       "      <td>&lt;c++&gt;&lt;gcc&gt;&lt;assembly&gt;&lt;floating-point&gt;&lt;micro-opt...</td>\n",
       "      <td>How to force GCC to assume that a floating-poi...</td>\n",
       "    </tr>\n",
       "    <tr>\n",
       "      <th>17670</th>\n",
       "      <td>Jupyter command `jupyter-lab` not found</td>\n",
       "      <td>&lt;p&gt;I have tried to install jupyter lab on my K...</td>\n",
       "      <td>&lt;python&gt;&lt;python-3.x&gt;&lt;jupyter-notebook&gt;&lt;jupyter...</td>\n",
       "      <td>Jupyter command `jupyter-lab` not found - I ha...</td>\n",
       "    </tr>\n",
       "    <tr>\n",
       "      <th>17671</th>\n",
       "      <td>\"Do Not Embed\", \"Embed &amp; Sign\", \"Embed Without...</td>\n",
       "      <td>&lt;p&gt;We have 3 new options in \"Frameworks, Libra...</td>\n",
       "      <td>&lt;ios&gt;&lt;frameworks&gt;&lt;static-libraries&gt;&lt;xcode11&gt;&lt;d...</td>\n",
       "      <td>\"Do Not Embed\", \"Embed &amp; Sign\", \"Embed Without...</td>\n",
       "    </tr>\n",
       "  </tbody>\n",
       "</table>\n",
       "<p>17672 rows × 4 columns</p>\n",
       "</div>"
      ],
      "text/plain": [
       "                                                   Title  \\\n",
       "0                      efficient way to implement paging   \n",
       "1        What does variable names beginning with _ mean?   \n",
       "2      Is it valid to replace http:// with // in a <s...   \n",
       "3                      Will new return NULL in any case?   \n",
       "4      Convert float to string in positional format (...   \n",
       "...                                                  ...   \n",
       "17667  Cross-Origin-Opener-Policy policy would block ...   \n",
       "17668  VSC PowerShell. After npm updating packages .p...   \n",
       "17669  How to force GCC to assume that a floating-poi...   \n",
       "17670            Jupyter command `jupyter-lab` not found   \n",
       "17671  \"Do Not Embed\", \"Embed & Sign\", \"Embed Without...   \n",
       "\n",
       "                                                    Body  \\\n",
       "0      <p>Should I use LINQ's <code>Skip()</code> and...   \n",
       "1      <p>When writing my first asp.net MVC applicati...   \n",
       "2      <p>I have the following element:</p>\\n\\n<pre><...   \n",
       "3      <p>I know that according to C++ standard in ca...   \n",
       "4      <p>I want to print some floating point numbers...   \n",
       "...                                                  ...   \n",
       "17667  <p>I am using firebase and its google auth too...   \n",
       "17668  <p>I design websites in VSC and PowerShell is ...   \n",
       "17669  <p>There are cases where you know that a certa...   \n",
       "17670  <p>I have tried to install jupyter lab on my K...   \n",
       "17671  <p>We have 3 new options in \"Frameworks, Libra...   \n",
       "\n",
       "                                                    Tags  \\\n",
       "0      <sql><sql-server><asp.net-mvc><linq-to-sql><pa...   \n",
       "1      <c#><asp.net><syntax><variables><naming-conven...   \n",
       "2            <html><http><https><uri><protocol-relative>   \n",
       "3      <c++><visual-c++><memory-management><new-opera...   \n",
       "4      <python><python-3.x><floating-point><number-fo...   \n",
       "...                                                  ...   \n",
       "17667  <firebase><next.js><oauth-2.0><firebase-authen...   \n",
       "17668  <firebase><powershell><vue.js><npm><visual-stu...   \n",
       "17669  <c++><gcc><assembly><floating-point><micro-opt...   \n",
       "17670  <python><python-3.x><jupyter-notebook><jupyter...   \n",
       "17671  <ios><frameworks><static-libraries><xcode11><d...   \n",
       "\n",
       "                                                    text  \n",
       "0      efficient way to implement paging - Should I u...  \n",
       "1      What does variable names beginning with _ mean...  \n",
       "2      Is it valid to replace http:// with // in a  -...  \n",
       "3      Will new return NULL in any case? - I know tha...  \n",
       "4      Convert float to string in positional format (...  \n",
       "...                                                  ...  \n",
       "17667  Cross-Origin-Opener-Policy policy would block ...  \n",
       "17668  VSC PowerShell. After npm updating packages .p...  \n",
       "17669  How to force GCC to assume that a floating-poi...  \n",
       "17670  Jupyter command `jupyter-lab` not found - I ha...  \n",
       "17671  \"Do Not Embed\", \"Embed & Sign\", \"Embed Without...  \n",
       "\n",
       "[17672 rows x 4 columns]"
      ]
     },
     "execution_count": 6,
     "metadata": {},
     "output_type": "execute_result"
    }
   ],
   "source": [
    "df"
   ]
  },
  {
   "cell_type": "code",
   "execution_count": 7,
   "id": "b62c6b92",
   "metadata": {},
   "outputs": [
    {
     "name": "stderr",
     "output_type": "stream",
     "text": [
      "[nltk_data] Downloading package stopwords to\n",
      "[nltk_data]     /home/marzime/nltk_data...\n",
      "[nltk_data]   Package stopwords is already up-to-date!\n"
     ]
    }
   ],
   "source": [
    "nltk.download('stopwords')\n",
    "sno = nltk.stem.SnowballStemmer('english') #initialising the snowball stemmer which is developed in recent years\n",
    "stop=set(stopwords.words('english'))"
   ]
  },
  {
   "cell_type": "code",
   "execution_count": 8,
   "id": "845f953a",
   "metadata": {},
   "outputs": [],
   "source": [
    "def cleanhtml(sentence): #function to clean the word of any html-tags\n",
    "    cleanr = re.compile('<.*?>')\n",
    "    cleantext = re.sub(cleanr, ' ', sentence)\n",
    "    return cleantext\n",
    "def cleanpunc(sentence): #function to clean the word of any punctuation or special characters\n",
    "    cleaned = re.sub(r'[?|!|\\'|\"|#]',r'',sentence)\n",
    "    cleaned = re.sub(r'[.|,|)|(|\\|/]',r' ',cleaned)\n",
    "    return  cleaned"
   ]
  },
  {
   "cell_type": "code",
   "execution_count": null,
   "id": "23ceaf09",
   "metadata": {},
   "outputs": [],
   "source": [
    "i=0\n",
    "str1=' '\n",
    "final_string=[]\n",
    "s=''\n",
    "for sent in df['text'].values:\n",
    "    filtered_sentence=[]\n",
    "    #print(sent);\n",
    "    sent=cleanhtml(sent) # remove HTMl tags\n",
    "    for w in sent.split():\n",
    "        for cleaned_words in cleanpunc(w).split():\n",
    "            if((cleaned_words.isalpha()) & (len(cleaned_words)>2)):    \n",
    "                if(cleaned_words.lower() not in stop):\n",
    "                    s=(sno.stem(cleaned_words.lower())).encode('utf8')\n",
    "                    filtered_sentence.append(s)\n",
    "                else:\n",
    "                    continue\n",
    "            else:\n",
    "                continue \n",
    "    #print(filtered_sentence)\n",
    "    str1 = b\" \".join(filtered_sentence) #final string of cleaned words\n",
    "    #print(\"***********************************************************************\")\n",
    "    \n",
    "    final_string.append(str1)\n",
    "    i+=1"
   ]
  },
  {
   "cell_type": "code",
   "execution_count": null,
   "id": "0b24cd0b",
   "metadata": {},
   "outputs": [],
   "source": [
    "df['clean_text']=final_string #adding a column of CleanedText which displays the data after pre-processing of the review \n",
    "df['clean_text']=df['clean_text'].str.decode(\"utf-8\")"
   ]
  },
  {
   "cell_type": "code",
   "execution_count": null,
   "id": "3c779246",
   "metadata": {},
   "outputs": [],
   "source": [
    "df"
   ]
  },
  {
   "cell_type": "markdown",
   "id": "e77c0b8e",
   "metadata": {},
   "source": [
    "# Modeling"
   ]
  },
  {
   "cell_type": "code",
   "execution_count": null,
   "id": "3093b01e",
   "metadata": {},
   "outputs": [],
   "source": [
    "def model_info(model, vectorizer):\n",
    "    labels = model.labels_\n",
    "    silhouette_score = metrics.silhouette_score(vectorizer, labels, metric='euclidean')\n",
    "    print(silhouette_score)\n",
    "\n",
    "def cluster_info(data, label: str, text: str, vectorizer, model, cluster_nbr: int):\n",
    "    \n",
    "    data_goruped = data.groupby([label])[text].count()\n",
    "\n",
    "    print(\"Top terms per cluster:\")\n",
    "    order_centroids = model.cluster_centers_.argsort()[:, ::-1]\n",
    "    terms = vectorizer.get_feature_names_out()\n",
    "\n",
    "    for i in range(cluster_nbr):\n",
    "        print(\"Cluster %d:\" % i, end='')\n",
    "        for ind in order_centroids[i, :cluster_nbr]:\n",
    "            print(' %s' % terms[ind], end='')\n",
    "            print()\n",
    "\n",
    "    plt.bar([x for x in range(cluster_nbr)], data.groupby([label])[text].count(), alpha = 0.4)\n",
    "    plt.title('Cluster points')\n",
    "    plt.xlabel(\"Cluster number\")\n",
    "    plt.ylabel(\"Number of points\")\n",
    "    plt.show()\n",
    "\n",
    "#     for i in range(cluster_nbr):\n",
    "#         print(\"A review of assigned to cluster \", i)\n",
    "#         print(\"-\" * 70)\n",
    "#         print(data.iloc[data.groupby([label]).groups[i][0]][text])\n",
    "#         print('\\n')\n",
    "#         print(\"_\" * 70)\n",
    "        \n",
    "    return data_goruped\n",
    "\n",
    "def silhouette(vectorized_data):\n",
    "    for i in range(2,11):\n",
    "        model = KMeans(n_clusters = i, init='k-means++',random_state=99)\n",
    "        model.fit(vectorized_data)\n",
    "        print(f\"for {i} clusters\")\n",
    "        model_info(model, vectorized_data)"
   ]
  },
  {
   "cell_type": "code",
   "execution_count": null,
   "id": "bceb1a52",
   "metadata": {},
   "outputs": [],
   "source": [
    "count_vect = CountVectorizer()"
   ]
  },
  {
   "cell_type": "code",
   "execution_count": null,
   "id": "0fdc8a8c",
   "metadata": {},
   "outputs": [],
   "source": [
    "bow = count_vect.fit_transform(df['clean_text'].values)"
   ]
  },
  {
   "cell_type": "code",
   "execution_count": null,
   "id": "b5600940",
   "metadata": {},
   "outputs": [],
   "source": [
    "# silhouette(bow)"
   ]
  },
  {
   "cell_type": "code",
   "execution_count": null,
   "id": "e0cdd901",
   "metadata": {},
   "outputs": [],
   "source": [
    "model = KMeans(n_clusters = 10, init='k-means++',random_state=99)\n",
    "model.fit(bow)"
   ]
  },
  {
   "cell_type": "code",
   "execution_count": null,
   "id": "81dc378e",
   "metadata": {},
   "outputs": [],
   "source": [
    "model_info(model, bow)"
   ]
  },
  {
   "cell_type": "code",
   "execution_count": null,
   "id": "75b8b03e",
   "metadata": {},
   "outputs": [],
   "source": [
    "df['Bow Clus Label'] = model.labels_ # the last column you can see the label numebers\n",
    "df"
   ]
  },
  {
   "cell_type": "code",
   "execution_count": null,
   "id": "840ced49",
   "metadata": {
    "scrolled": true
   },
   "outputs": [],
   "source": [
    "cluster_info(df, 'Bow Clus Label', 'clean_text', count_vect, model, 10)"
   ]
  },
  {
   "cell_type": "markdown",
   "id": "5d1bb120",
   "metadata": {},
   "source": [
    "# TF-IDF"
   ]
  },
  {
   "cell_type": "code",
   "execution_count": null,
   "id": "e6d4d51a",
   "metadata": {},
   "outputs": [],
   "source": [
    "tfidf_vect = TfidfVectorizer()\n",
    "tfidf = tfidf_vect.fit_transform(df['clean_text'].values)\n",
    "tfidf"
   ]
  },
  {
   "cell_type": "code",
   "execution_count": null,
   "id": "d9b1e65c",
   "metadata": {},
   "outputs": [],
   "source": [
    "# silhouette(tfidf)"
   ]
  },
  {
   "cell_type": "code",
   "execution_count": null,
   "id": "d447c8cd",
   "metadata": {
    "scrolled": true
   },
   "outputs": [],
   "source": [
    "model_tf = KMeans(n_clusters = 10, init='k-means++',random_state=99)\n",
    "model_tf.fit(tfidf)"
   ]
  },
  {
   "cell_type": "code",
   "execution_count": null,
   "id": "9924baac",
   "metadata": {},
   "outputs": [],
   "source": [
    "model_tf.labels_"
   ]
  },
  {
   "cell_type": "code",
   "execution_count": null,
   "id": "c16f08bc",
   "metadata": {},
   "outputs": [],
   "source": [
    "tfidf"
   ]
  },
  {
   "cell_type": "code",
   "execution_count": null,
   "id": "ab1d1287",
   "metadata": {},
   "outputs": [],
   "source": [
    "model_info(model_tf, tfidf)"
   ]
  },
  {
   "cell_type": "code",
   "execution_count": null,
   "id": "e2838ec8",
   "metadata": {},
   "outputs": [],
   "source": [
    "df['Tfidf Clus Label'] = model_tf.labels_\n",
    "df"
   ]
  },
  {
   "cell_type": "code",
   "execution_count": null,
   "id": "59a35efb",
   "metadata": {},
   "outputs": [],
   "source": [
    "df.to_csv('data.csv') "
   ]
  },
  {
   "cell_type": "code",
   "execution_count": null,
   "id": "11fd2978",
   "metadata": {
    "scrolled": true
   },
   "outputs": [],
   "source": [
    "cluster_info(df, 'Tfidf Clus Label', 'clean_text', tfidf_vect, model_tf, 10)"
   ]
  },
  {
   "cell_type": "code",
   "execution_count": null,
   "id": "58018450",
   "metadata": {},
   "outputs": [],
   "source": [
    "text = 'Why is processing a sorted array faster than processing an unsorted array? - In this C++ code, sorting the data (before the timed region) makes the primary loop ~6x faster:'"
   ]
  },
  {
   "cell_type": "code",
   "execution_count": null,
   "id": "af3ea53c",
   "metadata": {},
   "outputs": [],
   "source": [
    "def cleanhtml(sentence): #function to clean the word of any html-tags\n",
    "    cleanr = re.compile('<.*?>')\n",
    "    cleantext = re.sub(cleanr, ' ', sentence)\n",
    "    return cleantext\n",
    "\n",
    "def cleanpunc(sentence): #function to clean the word of any punctuation or special characters\n",
    "    cleaned = re.sub(r'[?|!|\\'|\"|#]',r'',sentence)\n",
    "    cleaned = re.sub(r'[.|,|)|(|\\|/]',r' ',cleaned)\n",
    "    return  cleaned\n",
    "\n",
    "def stem(text: str):\n",
    "    str1=' '\n",
    "    final_string=[]\n",
    "    s=''\n",
    "\n",
    "    filtered_sentence=[]\n",
    "    #print(sent);\n",
    "    sent=cleanhtml(text) # remove HTMl tags\n",
    "    for w in sent.split():\n",
    "        for cleaned_words in cleanpunc(w).split():\n",
    "            if((cleaned_words.isalpha()) & (len(cleaned_words)>2)):    \n",
    "                if(cleaned_words.lower() not in stop):\n",
    "                    s=(sno.stem(cleaned_words.lower())).encode('utf8')\n",
    "                    filtered_sentence.append(s)\n",
    "                else:\n",
    "                    continue\n",
    "            else:\n",
    "                continue \n",
    "    #print(filtered_sentence)\n",
    "    str1 = b\" \".join(filtered_sentence) #final string of cleaned words\n",
    "    #print(\"***********************************************************************\")\n",
    "\n",
    "    final_string.append(str1)\n",
    "\n",
    "    final_string = tfidf_vect.fit_transform(final_string)\n",
    "\n",
    "    return final_string"
   ]
  },
  {
   "cell_type": "code",
   "execution_count": null,
   "id": "c2fbfe87",
   "metadata": {},
   "outputs": [],
   "source": [
    "processed_text = stem(text)"
   ]
  },
  {
   "cell_type": "code",
   "execution_count": null,
   "id": "453047d2",
   "metadata": {},
   "outputs": [],
   "source": [
    "processed_text"
   ]
  },
  {
   "cell_type": "code",
   "execution_count": null,
   "id": "9122a1cc",
   "metadata": {
    "scrolled": true
   },
   "outputs": [],
   "source": [
    "model_tf.predict(processed_text)"
   ]
  },
  {
   "cell_type": "code",
   "execution_count": null,
   "id": "b8ad27ff",
   "metadata": {},
   "outputs": [],
   "source": [
    "# pickle.dump(model, open('model.pkl', 'wb'))"
   ]
  }
 ],
 "metadata": {
  "kernelspec": {
   "display_name": "Python 3 (ipykernel)",
   "language": "python",
   "name": "python3"
  },
  "language_info": {
   "codemirror_mode": {
    "name": "ipython",
    "version": 3
   },
   "file_extension": ".py",
   "mimetype": "text/x-python",
   "name": "python",
   "nbconvert_exporter": "python",
   "pygments_lexer": "ipython3",
   "version": "3.8.12"
  },
  "toc": {
   "base_numbering": 1,
   "nav_menu": {},
   "number_sections": true,
   "sideBar": true,
   "skip_h1_title": false,
   "title_cell": "Table of Contents",
   "title_sidebar": "Contents",
   "toc_cell": false,
   "toc_position": {},
   "toc_section_display": true,
   "toc_window_display": false
  }
 },
 "nbformat": 4,
 "nbformat_minor": 5
}
