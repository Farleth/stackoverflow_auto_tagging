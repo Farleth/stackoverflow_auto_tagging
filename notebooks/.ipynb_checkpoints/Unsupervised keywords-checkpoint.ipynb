{
 "cells": [
  {
   "cell_type": "code",
   "execution_count": 1,
   "id": "69dd680f",
   "metadata": {},
   "outputs": [],
   "source": [
    "from sklearn.metrics import silhouette_samples, silhouette_score\n",
    "from sklearn.feature_extraction.text import TfidfVectorizer\n",
    "from sklearn.feature_extraction.text import CountVectorizer\n",
    "from sklearn.cluster import KMeans\n",
    "from nltk.corpus import stopwords\n",
    "import matplotlib.pyplot as plt\n",
    "from bs4 import BeautifulSoup\n",
    "from sklearn import metrics\n",
    "import matplotlib.cm as cm\n",
    "import pandas as pd\n",
    "import numpy as np\n",
    "import random\n",
    "import nltk\n",
    "import re"
   ]
  },
  {
   "cell_type": "code",
   "execution_count": 2,
   "id": "8c5c3346",
   "metadata": {},
   "outputs": [],
   "source": [
    "# import data\n",
    "df = pd.read_csv('dara.csv')  "
   ]
  },
  {
   "cell_type": "code",
   "execution_count": 3,
   "id": "774c7314",
   "metadata": {
    "scrolled": true
   },
   "outputs": [],
   "source": [
    "df = df.rename(columns={'0': 'title', '1': 'body', '2': 'tags'})"
   ]
  },
  {
   "cell_type": "code",
   "execution_count": 4,
   "id": "a00c5c73",
   "metadata": {},
   "outputs": [
    {
     "data": {
      "text/html": [
       "<div>\n",
       "<style scoped>\n",
       "    .dataframe tbody tr th:only-of-type {\n",
       "        vertical-align: middle;\n",
       "    }\n",
       "\n",
       "    .dataframe tbody tr th {\n",
       "        vertical-align: top;\n",
       "    }\n",
       "\n",
       "    .dataframe thead th {\n",
       "        text-align: right;\n",
       "    }\n",
       "</style>\n",
       "<table border=\"1\" class=\"dataframe\">\n",
       "  <thead>\n",
       "    <tr style=\"text-align: right;\">\n",
       "      <th></th>\n",
       "      <th>Title</th>\n",
       "      <th>Body</th>\n",
       "      <th>Tags</th>\n",
       "    </tr>\n",
       "  </thead>\n",
       "  <tbody>\n",
       "    <tr>\n",
       "      <th>0</th>\n",
       "      <td>efficient way to implement paging</td>\n",
       "      <td>&lt;p&gt;Should I use LINQ's &lt;code&gt;Skip()&lt;/code&gt; and...</td>\n",
       "      <td>&lt;sql&gt;&lt;sql-server&gt;&lt;asp.net-mvc&gt;&lt;linq-to-sql&gt;&lt;pa...</td>\n",
       "    </tr>\n",
       "    <tr>\n",
       "      <th>1</th>\n",
       "      <td>What does variable names beginning with _ mean?</td>\n",
       "      <td>&lt;p&gt;When writing my first asp.net MVC applicati...</td>\n",
       "      <td>&lt;c#&gt;&lt;asp.net&gt;&lt;syntax&gt;&lt;variables&gt;&lt;naming-conven...</td>\n",
       "    </tr>\n",
       "    <tr>\n",
       "      <th>2</th>\n",
       "      <td>Is it valid to replace http:// with // in a &lt;s...</td>\n",
       "      <td>&lt;p&gt;I have the following element:&lt;/p&gt;\\n\\n&lt;pre&gt;&lt;...</td>\n",
       "      <td>&lt;html&gt;&lt;http&gt;&lt;https&gt;&lt;uri&gt;&lt;protocol-relative&gt;</td>\n",
       "    </tr>\n",
       "    <tr>\n",
       "      <th>3</th>\n",
       "      <td>Will new return NULL in any case?</td>\n",
       "      <td>&lt;p&gt;I know that according to C++ standard in ca...</td>\n",
       "      <td>&lt;c++&gt;&lt;visual-c++&gt;&lt;memory-management&gt;&lt;new-opera...</td>\n",
       "    </tr>\n",
       "    <tr>\n",
       "      <th>4</th>\n",
       "      <td>Convert float to string in positional format (...</td>\n",
       "      <td>&lt;p&gt;I want to print some floating point numbers...</td>\n",
       "      <td>&lt;python&gt;&lt;python-3.x&gt;&lt;floating-point&gt;&lt;number-fo...</td>\n",
       "    </tr>\n",
       "    <tr>\n",
       "      <th>...</th>\n",
       "      <td>...</td>\n",
       "      <td>...</td>\n",
       "      <td>...</td>\n",
       "    </tr>\n",
       "    <tr>\n",
       "      <th>17667</th>\n",
       "      <td>Cross-Origin-Opener-Policy policy would block ...</td>\n",
       "      <td>&lt;p&gt;I am using firebase and its google auth too...</td>\n",
       "      <td>&lt;firebase&gt;&lt;next.js&gt;&lt;oauth-2.0&gt;&lt;firebase-authen...</td>\n",
       "    </tr>\n",
       "    <tr>\n",
       "      <th>17668</th>\n",
       "      <td>VSC PowerShell. After npm updating packages .p...</td>\n",
       "      <td>&lt;p&gt;I design websites in VSC and PowerShell is ...</td>\n",
       "      <td>&lt;firebase&gt;&lt;powershell&gt;&lt;vue.js&gt;&lt;npm&gt;&lt;visual-stu...</td>\n",
       "    </tr>\n",
       "    <tr>\n",
       "      <th>17669</th>\n",
       "      <td>How to force GCC to assume that a floating-poi...</td>\n",
       "      <td>&lt;p&gt;There are cases where you know that a certa...</td>\n",
       "      <td>&lt;c++&gt;&lt;gcc&gt;&lt;assembly&gt;&lt;floating-point&gt;&lt;micro-opt...</td>\n",
       "    </tr>\n",
       "    <tr>\n",
       "      <th>17670</th>\n",
       "      <td>Jupyter command `jupyter-lab` not found</td>\n",
       "      <td>&lt;p&gt;I have tried to install jupyter lab on my K...</td>\n",
       "      <td>&lt;python&gt;&lt;python-3.x&gt;&lt;jupyter-notebook&gt;&lt;jupyter...</td>\n",
       "    </tr>\n",
       "    <tr>\n",
       "      <th>17671</th>\n",
       "      <td>\"Do Not Embed\", \"Embed &amp; Sign\", \"Embed Without...</td>\n",
       "      <td>&lt;p&gt;We have 3 new options in \"Frameworks, Libra...</td>\n",
       "      <td>&lt;ios&gt;&lt;frameworks&gt;&lt;static-libraries&gt;&lt;xcode11&gt;&lt;d...</td>\n",
       "    </tr>\n",
       "  </tbody>\n",
       "</table>\n",
       "<p>17672 rows × 3 columns</p>\n",
       "</div>"
      ],
      "text/plain": [
       "                                                   Title  \\\n",
       "0                      efficient way to implement paging   \n",
       "1        What does variable names beginning with _ mean?   \n",
       "2      Is it valid to replace http:// with // in a <s...   \n",
       "3                      Will new return NULL in any case?   \n",
       "4      Convert float to string in positional format (...   \n",
       "...                                                  ...   \n",
       "17667  Cross-Origin-Opener-Policy policy would block ...   \n",
       "17668  VSC PowerShell. After npm updating packages .p...   \n",
       "17669  How to force GCC to assume that a floating-poi...   \n",
       "17670            Jupyter command `jupyter-lab` not found   \n",
       "17671  \"Do Not Embed\", \"Embed & Sign\", \"Embed Without...   \n",
       "\n",
       "                                                    Body  \\\n",
       "0      <p>Should I use LINQ's <code>Skip()</code> and...   \n",
       "1      <p>When writing my first asp.net MVC applicati...   \n",
       "2      <p>I have the following element:</p>\\n\\n<pre><...   \n",
       "3      <p>I know that according to C++ standard in ca...   \n",
       "4      <p>I want to print some floating point numbers...   \n",
       "...                                                  ...   \n",
       "17667  <p>I am using firebase and its google auth too...   \n",
       "17668  <p>I design websites in VSC and PowerShell is ...   \n",
       "17669  <p>There are cases where you know that a certa...   \n",
       "17670  <p>I have tried to install jupyter lab on my K...   \n",
       "17671  <p>We have 3 new options in \"Frameworks, Libra...   \n",
       "\n",
       "                                                    Tags  \n",
       "0      <sql><sql-server><asp.net-mvc><linq-to-sql><pa...  \n",
       "1      <c#><asp.net><syntax><variables><naming-conven...  \n",
       "2            <html><http><https><uri><protocol-relative>  \n",
       "3      <c++><visual-c++><memory-management><new-opera...  \n",
       "4      <python><python-3.x><floating-point><number-fo...  \n",
       "...                                                  ...  \n",
       "17667  <firebase><next.js><oauth-2.0><firebase-authen...  \n",
       "17668  <firebase><powershell><vue.js><npm><visual-stu...  \n",
       "17669  <c++><gcc><assembly><floating-point><micro-opt...  \n",
       "17670  <python><python-3.x><jupyter-notebook><jupyter...  \n",
       "17671  <ios><frameworks><static-libraries><xcode11><d...  \n",
       "\n",
       "[17672 rows x 3 columns]"
      ]
     },
     "execution_count": 4,
     "metadata": {},
     "output_type": "execute_result"
    }
   ],
   "source": [
    "df"
   ]
  },
  {
   "cell_type": "code",
   "execution_count": 5,
   "id": "a5ea348c",
   "metadata": {},
   "outputs": [
    {
     "name": "stderr",
     "output_type": "stream",
     "text": [
      "/home/marzime/.pyenv/versions/3.8.12/envs/simplon/lib/python3.8/site-packages/bs4/__init__.py:435: MarkupResemblesLocatorWarning: The input looks more like a filename than markup. You may want to open this file and pass the filehandle into Beautiful Soup.\n",
      "  warnings.warn(\n"
     ]
    }
   ],
   "source": [
    "df['text'] = df['Title'].apply(lambda s: BeautifulSoup(s).text) + ' - ' + df['Body'].apply(lambda s: BeautifulSoup(s).text)"
   ]
  },
  {
   "cell_type": "code",
   "execution_count": 6,
   "id": "6ad0442a",
   "metadata": {
    "scrolled": false
   },
   "outputs": [
    {
     "data": {
      "text/html": [
       "<div>\n",
       "<style scoped>\n",
       "    .dataframe tbody tr th:only-of-type {\n",
       "        vertical-align: middle;\n",
       "    }\n",
       "\n",
       "    .dataframe tbody tr th {\n",
       "        vertical-align: top;\n",
       "    }\n",
       "\n",
       "    .dataframe thead th {\n",
       "        text-align: right;\n",
       "    }\n",
       "</style>\n",
       "<table border=\"1\" class=\"dataframe\">\n",
       "  <thead>\n",
       "    <tr style=\"text-align: right;\">\n",
       "      <th></th>\n",
       "      <th>Title</th>\n",
       "      <th>Body</th>\n",
       "      <th>Tags</th>\n",
       "      <th>text</th>\n",
       "    </tr>\n",
       "  </thead>\n",
       "  <tbody>\n",
       "    <tr>\n",
       "      <th>0</th>\n",
       "      <td>efficient way to implement paging</td>\n",
       "      <td>&lt;p&gt;Should I use LINQ's &lt;code&gt;Skip()&lt;/code&gt; and...</td>\n",
       "      <td>&lt;sql&gt;&lt;sql-server&gt;&lt;asp.net-mvc&gt;&lt;linq-to-sql&gt;&lt;pa...</td>\n",
       "      <td>efficient way to implement paging - Should I u...</td>\n",
       "    </tr>\n",
       "    <tr>\n",
       "      <th>1</th>\n",
       "      <td>What does variable names beginning with _ mean?</td>\n",
       "      <td>&lt;p&gt;When writing my first asp.net MVC applicati...</td>\n",
       "      <td>&lt;c#&gt;&lt;asp.net&gt;&lt;syntax&gt;&lt;variables&gt;&lt;naming-conven...</td>\n",
       "      <td>What does variable names beginning with _ mean...</td>\n",
       "    </tr>\n",
       "    <tr>\n",
       "      <th>2</th>\n",
       "      <td>Is it valid to replace http:// with // in a &lt;s...</td>\n",
       "      <td>&lt;p&gt;I have the following element:&lt;/p&gt;\\n\\n&lt;pre&gt;&lt;...</td>\n",
       "      <td>&lt;html&gt;&lt;http&gt;&lt;https&gt;&lt;uri&gt;&lt;protocol-relative&gt;</td>\n",
       "      <td>Is it valid to replace http:// with // in a  -...</td>\n",
       "    </tr>\n",
       "    <tr>\n",
       "      <th>3</th>\n",
       "      <td>Will new return NULL in any case?</td>\n",
       "      <td>&lt;p&gt;I know that according to C++ standard in ca...</td>\n",
       "      <td>&lt;c++&gt;&lt;visual-c++&gt;&lt;memory-management&gt;&lt;new-opera...</td>\n",
       "      <td>Will new return NULL in any case? - I know tha...</td>\n",
       "    </tr>\n",
       "    <tr>\n",
       "      <th>4</th>\n",
       "      <td>Convert float to string in positional format (...</td>\n",
       "      <td>&lt;p&gt;I want to print some floating point numbers...</td>\n",
       "      <td>&lt;python&gt;&lt;python-3.x&gt;&lt;floating-point&gt;&lt;number-fo...</td>\n",
       "      <td>Convert float to string in positional format (...</td>\n",
       "    </tr>\n",
       "    <tr>\n",
       "      <th>...</th>\n",
       "      <td>...</td>\n",
       "      <td>...</td>\n",
       "      <td>...</td>\n",
       "      <td>...</td>\n",
       "    </tr>\n",
       "    <tr>\n",
       "      <th>17667</th>\n",
       "      <td>Cross-Origin-Opener-Policy policy would block ...</td>\n",
       "      <td>&lt;p&gt;I am using firebase and its google auth too...</td>\n",
       "      <td>&lt;firebase&gt;&lt;next.js&gt;&lt;oauth-2.0&gt;&lt;firebase-authen...</td>\n",
       "      <td>Cross-Origin-Opener-Policy policy would block ...</td>\n",
       "    </tr>\n",
       "    <tr>\n",
       "      <th>17668</th>\n",
       "      <td>VSC PowerShell. After npm updating packages .p...</td>\n",
       "      <td>&lt;p&gt;I design websites in VSC and PowerShell is ...</td>\n",
       "      <td>&lt;firebase&gt;&lt;powershell&gt;&lt;vue.js&gt;&lt;npm&gt;&lt;visual-stu...</td>\n",
       "      <td>VSC PowerShell. After npm updating packages .p...</td>\n",
       "    </tr>\n",
       "    <tr>\n",
       "      <th>17669</th>\n",
       "      <td>How to force GCC to assume that a floating-poi...</td>\n",
       "      <td>&lt;p&gt;There are cases where you know that a certa...</td>\n",
       "      <td>&lt;c++&gt;&lt;gcc&gt;&lt;assembly&gt;&lt;floating-point&gt;&lt;micro-opt...</td>\n",
       "      <td>How to force GCC to assume that a floating-poi...</td>\n",
       "    </tr>\n",
       "    <tr>\n",
       "      <th>17670</th>\n",
       "      <td>Jupyter command `jupyter-lab` not found</td>\n",
       "      <td>&lt;p&gt;I have tried to install jupyter lab on my K...</td>\n",
       "      <td>&lt;python&gt;&lt;python-3.x&gt;&lt;jupyter-notebook&gt;&lt;jupyter...</td>\n",
       "      <td>Jupyter command `jupyter-lab` not found - I ha...</td>\n",
       "    </tr>\n",
       "    <tr>\n",
       "      <th>17671</th>\n",
       "      <td>\"Do Not Embed\", \"Embed &amp; Sign\", \"Embed Without...</td>\n",
       "      <td>&lt;p&gt;We have 3 new options in \"Frameworks, Libra...</td>\n",
       "      <td>&lt;ios&gt;&lt;frameworks&gt;&lt;static-libraries&gt;&lt;xcode11&gt;&lt;d...</td>\n",
       "      <td>\"Do Not Embed\", \"Embed &amp; Sign\", \"Embed Without...</td>\n",
       "    </tr>\n",
       "  </tbody>\n",
       "</table>\n",
       "<p>17672 rows × 4 columns</p>\n",
       "</div>"
      ],
      "text/plain": [
       "                                                   Title  \\\n",
       "0                      efficient way to implement paging   \n",
       "1        What does variable names beginning with _ mean?   \n",
       "2      Is it valid to replace http:// with // in a <s...   \n",
       "3                      Will new return NULL in any case?   \n",
       "4      Convert float to string in positional format (...   \n",
       "...                                                  ...   \n",
       "17667  Cross-Origin-Opener-Policy policy would block ...   \n",
       "17668  VSC PowerShell. After npm updating packages .p...   \n",
       "17669  How to force GCC to assume that a floating-poi...   \n",
       "17670            Jupyter command `jupyter-lab` not found   \n",
       "17671  \"Do Not Embed\", \"Embed & Sign\", \"Embed Without...   \n",
       "\n",
       "                                                    Body  \\\n",
       "0      <p>Should I use LINQ's <code>Skip()</code> and...   \n",
       "1      <p>When writing my first asp.net MVC applicati...   \n",
       "2      <p>I have the following element:</p>\\n\\n<pre><...   \n",
       "3      <p>I know that according to C++ standard in ca...   \n",
       "4      <p>I want to print some floating point numbers...   \n",
       "...                                                  ...   \n",
       "17667  <p>I am using firebase and its google auth too...   \n",
       "17668  <p>I design websites in VSC and PowerShell is ...   \n",
       "17669  <p>There are cases where you know that a certa...   \n",
       "17670  <p>I have tried to install jupyter lab on my K...   \n",
       "17671  <p>We have 3 new options in \"Frameworks, Libra...   \n",
       "\n",
       "                                                    Tags  \\\n",
       "0      <sql><sql-server><asp.net-mvc><linq-to-sql><pa...   \n",
       "1      <c#><asp.net><syntax><variables><naming-conven...   \n",
       "2            <html><http><https><uri><protocol-relative>   \n",
       "3      <c++><visual-c++><memory-management><new-opera...   \n",
       "4      <python><python-3.x><floating-point><number-fo...   \n",
       "...                                                  ...   \n",
       "17667  <firebase><next.js><oauth-2.0><firebase-authen...   \n",
       "17668  <firebase><powershell><vue.js><npm><visual-stu...   \n",
       "17669  <c++><gcc><assembly><floating-point><micro-opt...   \n",
       "17670  <python><python-3.x><jupyter-notebook><jupyter...   \n",
       "17671  <ios><frameworks><static-libraries><xcode11><d...   \n",
       "\n",
       "                                                    text  \n",
       "0      efficient way to implement paging - Should I u...  \n",
       "1      What does variable names beginning with _ mean...  \n",
       "2      Is it valid to replace http:// with // in a  -...  \n",
       "3      Will new return NULL in any case? - I know tha...  \n",
       "4      Convert float to string in positional format (...  \n",
       "...                                                  ...  \n",
       "17667  Cross-Origin-Opener-Policy policy would block ...  \n",
       "17668  VSC PowerShell. After npm updating packages .p...  \n",
       "17669  How to force GCC to assume that a floating-poi...  \n",
       "17670  Jupyter command `jupyter-lab` not found - I ha...  \n",
       "17671  \"Do Not Embed\", \"Embed & Sign\", \"Embed Without...  \n",
       "\n",
       "[17672 rows x 4 columns]"
      ]
     },
     "execution_count": 6,
     "metadata": {},
     "output_type": "execute_result"
    }
   ],
   "source": [
    "df"
   ]
  },
  {
   "cell_type": "code",
   "execution_count": 7,
   "id": "b62c6b92",
   "metadata": {},
   "outputs": [
    {
     "name": "stderr",
     "output_type": "stream",
     "text": [
      "[nltk_data] Downloading package stopwords to\n",
      "[nltk_data]     /home/marzime/nltk_data...\n",
      "[nltk_data]   Package stopwords is already up-to-date!\n"
     ]
    }
   ],
   "source": [
    "nltk.download('stopwords')\n",
    "sno = nltk.stem.SnowballStemmer('english') #initialising the snowball stemmer which is developed in recent years\n",
    "stop=set(stopwords.words('english'))"
   ]
  },
  {
   "cell_type": "code",
   "execution_count": 8,
   "id": "845f953a",
   "metadata": {},
   "outputs": [],
   "source": [
    "def cleanhtml(sentence): #function to clean the word of any html-tags\n",
    "    cleanr = re.compile('<.*?>')\n",
    "    cleantext = re.sub(cleanr, ' ', sentence)\n",
    "    return cleantext\n",
    "def cleanpunc(sentence): #function to clean the word of any punctuation or special characters\n",
    "    cleaned = re.sub(r'[?|!|\\'|\"|#]',r'',sentence)\n",
    "    cleaned = re.sub(r'[.|,|)|(|\\|/]',r' ',cleaned)\n",
    "    return  cleaned"
   ]
  },
  {
   "cell_type": "code",
   "execution_count": 9,
   "id": "23ceaf09",
   "metadata": {},
   "outputs": [],
   "source": [
    "i=0\n",
    "str1=' '\n",
    "final_string=[]\n",
    "s=''\n",
    "for sent in df['text'].values:\n",
    "    filtered_sentence=[]\n",
    "    #print(sent);\n",
    "    sent=cleanhtml(sent) # remove HTMl tags\n",
    "    for w in sent.split():\n",
    "        for cleaned_words in cleanpunc(w).split():\n",
    "            if((cleaned_words.isalpha()) & (len(cleaned_words)>2)):    \n",
    "                if(cleaned_words.lower() not in stop):\n",
    "                    s=(sno.stem(cleaned_words.lower())).encode('utf8')\n",
    "                    filtered_sentence.append(s)\n",
    "                else:\n",
    "                    continue\n",
    "            else:\n",
    "                continue \n",
    "    #print(filtered_sentence)\n",
    "    str1 = b\" \".join(filtered_sentence) #final string of cleaned words\n",
    "    #print(\"***********************************************************************\")\n",
    "    \n",
    "    final_string.append(str1)\n",
    "    i+=1"
   ]
  },
  {
   "cell_type": "code",
   "execution_count": 10,
   "id": "0b24cd0b",
   "metadata": {},
   "outputs": [],
   "source": [
    "df['clean_text']=final_string #adding a column of CleanedText which displays the data after pre-processing of the review \n",
    "df['clean_text']=df['clean_text'].str.decode(\"utf-8\")"
   ]
  },
  {
   "cell_type": "code",
   "execution_count": 11,
   "id": "3c779246",
   "metadata": {},
   "outputs": [
    {
     "data": {
      "text/html": [
       "<div>\n",
       "<style scoped>\n",
       "    .dataframe tbody tr th:only-of-type {\n",
       "        vertical-align: middle;\n",
       "    }\n",
       "\n",
       "    .dataframe tbody tr th {\n",
       "        vertical-align: top;\n",
       "    }\n",
       "\n",
       "    .dataframe thead th {\n",
       "        text-align: right;\n",
       "    }\n",
       "</style>\n",
       "<table border=\"1\" class=\"dataframe\">\n",
       "  <thead>\n",
       "    <tr style=\"text-align: right;\">\n",
       "      <th></th>\n",
       "      <th>Title</th>\n",
       "      <th>Body</th>\n",
       "      <th>Tags</th>\n",
       "      <th>text</th>\n",
       "      <th>clean_text</th>\n",
       "    </tr>\n",
       "  </thead>\n",
       "  <tbody>\n",
       "    <tr>\n",
       "      <th>0</th>\n",
       "      <td>efficient way to implement paging</td>\n",
       "      <td>&lt;p&gt;Should I use LINQ's &lt;code&gt;Skip()&lt;/code&gt; and...</td>\n",
       "      <td>&lt;sql&gt;&lt;sql-server&gt;&lt;asp.net-mvc&gt;&lt;linq-to-sql&gt;&lt;pa...</td>\n",
       "      <td>efficient way to implement paging - Should I u...</td>\n",
       "      <td>effici way implement page use linq skip take m...</td>\n",
       "    </tr>\n",
       "    <tr>\n",
       "      <th>1</th>\n",
       "      <td>What does variable names beginning with _ mean?</td>\n",
       "      <td>&lt;p&gt;When writing my first asp.net MVC applicati...</td>\n",
       "      <td>&lt;c#&gt;&lt;asp.net&gt;&lt;syntax&gt;&lt;variables&gt;&lt;naming-conven...</td>\n",
       "      <td>What does variable names beginning with _ mean...</td>\n",
       "      <td>variabl name begin mean write first asp net mv...</td>\n",
       "    </tr>\n",
       "    <tr>\n",
       "      <th>2</th>\n",
       "      <td>Is it valid to replace http:// with // in a &lt;s...</td>\n",
       "      <td>&lt;p&gt;I have the following element:&lt;/p&gt;\\n\\n&lt;pre&gt;&lt;...</td>\n",
       "      <td>&lt;html&gt;&lt;http&gt;&lt;https&gt;&lt;uri&gt;&lt;protocol-relative&gt;</td>\n",
       "      <td>Is it valid to replace http:// with // in a  -...</td>\n",
       "      <td>valid replac follow case site https site may a...</td>\n",
       "    </tr>\n",
       "    <tr>\n",
       "      <th>3</th>\n",
       "      <td>Will new return NULL in any case?</td>\n",
       "      <td>&lt;p&gt;I know that according to C++ standard in ca...</td>\n",
       "      <td>&lt;c++&gt;&lt;visual-c++&gt;&lt;memory-management&gt;&lt;new-opera...</td>\n",
       "      <td>Will new return NULL in any case? - I know tha...</td>\n",
       "      <td>new return null case know accord standard case...</td>\n",
       "    </tr>\n",
       "    <tr>\n",
       "      <th>4</th>\n",
       "      <td>Convert float to string in positional format (...</td>\n",
       "      <td>&lt;p&gt;I want to print some floating point numbers...</td>\n",
       "      <td>&lt;python&gt;&lt;python-3.x&gt;&lt;floating-point&gt;&lt;number-fo...</td>\n",
       "      <td>Convert float to string in positional format (...</td>\n",
       "      <td>convert float string posit format without scie...</td>\n",
       "    </tr>\n",
       "    <tr>\n",
       "      <th>...</th>\n",
       "      <td>...</td>\n",
       "      <td>...</td>\n",
       "      <td>...</td>\n",
       "      <td>...</td>\n",
       "      <td>...</td>\n",
       "    </tr>\n",
       "    <tr>\n",
       "      <th>17667</th>\n",
       "      <td>Cross-Origin-Opener-Policy policy would block ...</td>\n",
       "      <td>&lt;p&gt;I am using firebase and its google auth too...</td>\n",
       "      <td>&lt;firebase&gt;&lt;next.js&gt;&lt;oauth-2.0&gt;&lt;firebase-authen...</td>\n",
       "      <td>Cross-Origin-Opener-Policy policy would block ...</td>\n",
       "      <td>polici would block window close call error use...</td>\n",
       "    </tr>\n",
       "    <tr>\n",
       "      <th>17668</th>\n",
       "      <td>VSC PowerShell. After npm updating packages .p...</td>\n",
       "      <td>&lt;p&gt;I design websites in VSC and PowerShell is ...</td>\n",
       "      <td>&lt;firebase&gt;&lt;powershell&gt;&lt;vue.js&gt;&lt;npm&gt;&lt;visual-stu...</td>\n",
       "      <td>VSC PowerShell. After npm updating packages .p...</td>\n",
       "      <td>vsc powershel npm updat packag cannot load run...</td>\n",
       "    </tr>\n",
       "    <tr>\n",
       "      <th>17669</th>\n",
       "      <td>How to force GCC to assume that a floating-poi...</td>\n",
       "      <td>&lt;p&gt;There are cases where you know that a certa...</td>\n",
       "      <td>&lt;c++&gt;&lt;gcc&gt;&lt;assembly&gt;&lt;floating-point&gt;&lt;micro-opt...</td>\n",
       "      <td>How to force GCC to assume that a floating-poi...</td>\n",
       "      <td>forc gcc assum express case know certain expre...</td>\n",
       "    </tr>\n",
       "    <tr>\n",
       "      <th>17670</th>\n",
       "      <td>Jupyter command `jupyter-lab` not found</td>\n",
       "      <td>&lt;p&gt;I have tried to install jupyter lab on my K...</td>\n",
       "      <td>&lt;python&gt;&lt;python-3.x&gt;&lt;jupyter-notebook&gt;&lt;jupyter...</td>\n",
       "      <td>Jupyter command `jupyter-lab` not found - I ha...</td>\n",
       "      <td>jupyt command found tri instal jupyt lab kubun...</td>\n",
       "    </tr>\n",
       "    <tr>\n",
       "      <th>17671</th>\n",
       "      <td>\"Do Not Embed\", \"Embed &amp; Sign\", \"Embed Without...</td>\n",
       "      <td>&lt;p&gt;We have 3 new options in \"Frameworks, Libra...</td>\n",
       "      <td>&lt;ios&gt;&lt;frameworks&gt;&lt;static-libraries&gt;&lt;xcode11&gt;&lt;d...</td>\n",
       "      <td>\"Do Not Embed\", \"Embed &amp; Sign\", \"Embed Without...</td>\n",
       "      <td>emb emb sign emb without sign new option frame...</td>\n",
       "    </tr>\n",
       "  </tbody>\n",
       "</table>\n",
       "<p>17672 rows × 5 columns</p>\n",
       "</div>"
      ],
      "text/plain": [
       "                                                   Title  \\\n",
       "0                      efficient way to implement paging   \n",
       "1        What does variable names beginning with _ mean?   \n",
       "2      Is it valid to replace http:// with // in a <s...   \n",
       "3                      Will new return NULL in any case?   \n",
       "4      Convert float to string in positional format (...   \n",
       "...                                                  ...   \n",
       "17667  Cross-Origin-Opener-Policy policy would block ...   \n",
       "17668  VSC PowerShell. After npm updating packages .p...   \n",
       "17669  How to force GCC to assume that a floating-poi...   \n",
       "17670            Jupyter command `jupyter-lab` not found   \n",
       "17671  \"Do Not Embed\", \"Embed & Sign\", \"Embed Without...   \n",
       "\n",
       "                                                    Body  \\\n",
       "0      <p>Should I use LINQ's <code>Skip()</code> and...   \n",
       "1      <p>When writing my first asp.net MVC applicati...   \n",
       "2      <p>I have the following element:</p>\\n\\n<pre><...   \n",
       "3      <p>I know that according to C++ standard in ca...   \n",
       "4      <p>I want to print some floating point numbers...   \n",
       "...                                                  ...   \n",
       "17667  <p>I am using firebase and its google auth too...   \n",
       "17668  <p>I design websites in VSC and PowerShell is ...   \n",
       "17669  <p>There are cases where you know that a certa...   \n",
       "17670  <p>I have tried to install jupyter lab on my K...   \n",
       "17671  <p>We have 3 new options in \"Frameworks, Libra...   \n",
       "\n",
       "                                                    Tags  \\\n",
       "0      <sql><sql-server><asp.net-mvc><linq-to-sql><pa...   \n",
       "1      <c#><asp.net><syntax><variables><naming-conven...   \n",
       "2            <html><http><https><uri><protocol-relative>   \n",
       "3      <c++><visual-c++><memory-management><new-opera...   \n",
       "4      <python><python-3.x><floating-point><number-fo...   \n",
       "...                                                  ...   \n",
       "17667  <firebase><next.js><oauth-2.0><firebase-authen...   \n",
       "17668  <firebase><powershell><vue.js><npm><visual-stu...   \n",
       "17669  <c++><gcc><assembly><floating-point><micro-opt...   \n",
       "17670  <python><python-3.x><jupyter-notebook><jupyter...   \n",
       "17671  <ios><frameworks><static-libraries><xcode11><d...   \n",
       "\n",
       "                                                    text  \\\n",
       "0      efficient way to implement paging - Should I u...   \n",
       "1      What does variable names beginning with _ mean...   \n",
       "2      Is it valid to replace http:// with // in a  -...   \n",
       "3      Will new return NULL in any case? - I know tha...   \n",
       "4      Convert float to string in positional format (...   \n",
       "...                                                  ...   \n",
       "17667  Cross-Origin-Opener-Policy policy would block ...   \n",
       "17668  VSC PowerShell. After npm updating packages .p...   \n",
       "17669  How to force GCC to assume that a floating-poi...   \n",
       "17670  Jupyter command `jupyter-lab` not found - I ha...   \n",
       "17671  \"Do Not Embed\", \"Embed & Sign\", \"Embed Without...   \n",
       "\n",
       "                                              clean_text  \n",
       "0      effici way implement page use linq skip take m...  \n",
       "1      variabl name begin mean write first asp net mv...  \n",
       "2      valid replac follow case site https site may a...  \n",
       "3      new return null case know accord standard case...  \n",
       "4      convert float string posit format without scie...  \n",
       "...                                                  ...  \n",
       "17667  polici would block window close call error use...  \n",
       "17668  vsc powershel npm updat packag cannot load run...  \n",
       "17669  forc gcc assum express case know certain expre...  \n",
       "17670  jupyt command found tri instal jupyt lab kubun...  \n",
       "17671  emb emb sign emb without sign new option frame...  \n",
       "\n",
       "[17672 rows x 5 columns]"
      ]
     },
     "execution_count": 11,
     "metadata": {},
     "output_type": "execute_result"
    }
   ],
   "source": [
    "df"
   ]
  },
  {
   "cell_type": "markdown",
   "id": "e77c0b8e",
   "metadata": {},
   "source": [
    "# Modeling"
   ]
  },
  {
   "cell_type": "code",
   "execution_count": 24,
   "id": "3093b01e",
   "metadata": {},
   "outputs": [],
   "source": [
    "def vectorizer_info(vectorizer, vectorized):\n",
    "    terms = vectorizer.get_feature_names_out()\n",
    "    \n",
    "    return vectorized.shape, vectorizer, terms[1:10]\n",
    "\n",
    "def model_info(model, vectorizer):\n",
    "    labels = model.labels_\n",
    "    silhouette_score = metrics.silhouette_score(vectorizer, labels, metric='euclidean')\n",
    "    print(silhouette_score)\n",
    "\n",
    "def cluster_info(data, label: str, text: str, vectorizer, model, cluster_nbr: int):\n",
    "    \n",
    "    data_goruped = data.groupby([label])[text].count()\n",
    "\n",
    "    print(\"Top terms per cluster:\")\n",
    "    order_centroids = model.cluster_centers_.argsort()[:, ::-1]\n",
    "    terms = vectorizer.get_feature_names_out()\n",
    "\n",
    "    for i in range(cluster_nbr):\n",
    "        print(\"Cluster %d:\" % i, end='')\n",
    "        for ind in order_centroids[i, :cluster_nbr]:\n",
    "            print(' %s' % terms[ind], end='')\n",
    "            print()\n",
    "\n",
    "    plt.bar([x for x in range(cluster_nbr)], data.groupby([label])[text].count(), alpha = 0.4)\n",
    "    plt.title('Cluster points')\n",
    "    plt.xlabel(\"Cluster number\")\n",
    "    plt.ylabel(\"Number of points\")\n",
    "    plt.show()\n",
    "\n",
    "    for i in range(cluster_nbr):\n",
    "        print(\"A review of assigned to cluster \", i)\n",
    "        print(\"-\" * 70)\n",
    "        print(data.iloc[data.groupby([label]).groups[i][0]][text])\n",
    "        print('\\n')\n",
    "        print(\"_\" * 70)\n",
    "        \n",
    "    return data_goruped\n",
    "\n",
    "def silhouette(vectorized_data):\n",
    "    for i in range(2,10):\n",
    "    model = KMeans(n_clusters = i, init='k-means++',random_state=99)\n",
    "    model.fit(vectorized_data)\n",
    "    print(f\"for {i} clusters\")\n",
    "    model_info(model, vectorized_data)"
   ]
  },
  {
   "cell_type": "code",
   "execution_count": 13,
   "id": "bceb1a52",
   "metadata": {},
   "outputs": [],
   "source": [
    "count_vect = CountVectorizer()"
   ]
  },
  {
   "cell_type": "code",
   "execution_count": 14,
   "id": "0fdc8a8c",
   "metadata": {},
   "outputs": [],
   "source": [
    "bow = count_vect.fit_transform(df['clean_text'].values)"
   ]
  },
  {
   "cell_type": "code",
   "execution_count": 15,
   "id": "41daa4e2",
   "metadata": {
    "scrolled": true
   },
   "outputs": [
    {
     "data": {
      "text/plain": [
       "((17672, 44518),\n",
       " CountVectorizer(),\n",
       " array(['aaa', 'aaaa', 'aaaaa', 'aaaaaaaa', 'aaaaaaaaaaaaaaaaaaaaaaaaaaaa',\n",
       "        'aaaaaaaaaaaaaaaaaaaaaaaaaaaab', 'aaaaaaaaavu', 'aaaabbbbbccddddd',\n",
       "        'aaaabbbc'], dtype=object))"
      ]
     },
     "execution_count": 15,
     "metadata": {},
     "output_type": "execute_result"
    }
   ],
   "source": [
    "vectorizer_info(count_vect, bow)"
   ]
  },
  {
   "cell_type": "code",
   "execution_count": 23,
   "id": "b5600940",
   "metadata": {},
   "outputs": [
    {
     "name": "stderr",
     "output_type": "stream",
     "text": [
      "/home/marzime/.pyenv/versions/3.8.12/envs/simplon/lib/python3.8/site-packages/sklearn/cluster/_kmeans.py:870: FutureWarning: The default value of `n_init` will change from 10 to 'auto' in 1.4. Set the value of `n_init` explicitly to suppress the warning\n",
      "  warnings.warn(\n"
     ]
    },
    {
     "name": "stdout",
     "output_type": "stream",
     "text": [
      "[[5.65898930e-05 1.07520797e-03 1.69769679e-04 ... 5.65898930e-05\n",
      "  5.65898930e-05 5.65898930e-05]\n",
      " [0.00000000e+00 0.00000000e+00 0.00000000e+00 ... 0.00000000e+00\n",
      "  0.00000000e+00 0.00000000e+00]]\n",
      "0.9655476478970229\n"
     ]
    },
    {
     "name": "stderr",
     "output_type": "stream",
     "text": [
      "/home/marzime/.pyenv/versions/3.8.12/envs/simplon/lib/python3.8/site-packages/sklearn/cluster/_kmeans.py:870: FutureWarning: The default value of `n_init` will change from 10 to 'auto' in 1.4. Set the value of `n_init` explicitly to suppress the warning\n",
      "  warnings.warn(\n"
     ]
    },
    {
     "name": "stdout",
     "output_type": "stream",
     "text": [
      "[[5.66187295e-05 1.07575586e-03 1.69856188e-04 ... 5.66187295e-05\n",
      "  5.66187295e-05 5.66187295e-05]\n",
      " [0.00000000e+00 0.00000000e+00 0.00000000e+00 ... 0.00000000e+00\n",
      "  0.00000000e+00 0.00000000e+00]\n",
      " [0.00000000e+00 0.00000000e+00 0.00000000e+00 ... 0.00000000e+00\n",
      "  0.00000000e+00 0.00000000e+00]]\n",
      "0.9075760202898117\n"
     ]
    },
    {
     "name": "stderr",
     "output_type": "stream",
     "text": [
      "/home/marzime/.pyenv/versions/3.8.12/envs/simplon/lib/python3.8/site-packages/sklearn/cluster/_kmeans.py:870: FutureWarning: The default value of `n_init` will change from 10 to 'auto' in 1.4. Set the value of `n_init` explicitly to suppress the warning\n",
      "  warnings.warn(\n"
     ]
    },
    {
     "name": "stdout",
     "output_type": "stream",
     "text": [
      "[[5.67086311e-05 1.07746399e-03 1.70125893e-04 ... 5.67086311e-05\n",
      "  5.67086311e-05 5.67086311e-05]\n",
      " [0.00000000e+00 0.00000000e+00 0.00000000e+00 ... 0.00000000e+00\n",
      "  0.00000000e+00 0.00000000e+00]\n",
      " [0.00000000e+00 0.00000000e+00 0.00000000e+00 ... 0.00000000e+00\n",
      "  0.00000000e+00 0.00000000e+00]\n",
      " [0.00000000e+00 0.00000000e+00 0.00000000e+00 ... 0.00000000e+00\n",
      "  0.00000000e+00 0.00000000e+00]]\n",
      "0.8369542099646622\n"
     ]
    },
    {
     "name": "stderr",
     "output_type": "stream",
     "text": [
      "/home/marzime/.pyenv/versions/3.8.12/envs/simplon/lib/python3.8/site-packages/sklearn/cluster/_kmeans.py:870: FutureWarning: The default value of `n_init` will change from 10 to 'auto' in 1.4. Set the value of `n_init` explicitly to suppress the warning\n",
      "  warnings.warn(\n"
     ]
    },
    {
     "name": "stdout",
     "output_type": "stream",
     "text": [
      "[[0.00000000e+00 0.00000000e+00 0.00000000e+00 ... 0.00000000e+00\n",
      "  0.00000000e+00 0.00000000e+00]\n",
      " [0.00000000e+00 0.00000000e+00 0.00000000e+00 ... 0.00000000e+00\n",
      "  0.00000000e+00 0.00000000e+00]\n",
      " [5.68117259e-05 1.07942279e-03 1.70435178e-04 ... 5.68117259e-05\n",
      "  5.68117259e-05 5.68117259e-05]\n",
      " [0.00000000e+00 0.00000000e+00 0.00000000e+00 ... 0.00000000e+00\n",
      "  0.00000000e+00 0.00000000e+00]\n",
      " [0.00000000e+00 0.00000000e+00 0.00000000e+00 ... 0.00000000e+00\n",
      "  0.00000000e+00 0.00000000e+00]]\n",
      "0.7961990320053612\n"
     ]
    },
    {
     "name": "stderr",
     "output_type": "stream",
     "text": [
      "/home/marzime/.pyenv/versions/3.8.12/envs/simplon/lib/python3.8/site-packages/sklearn/cluster/_kmeans.py:870: FutureWarning: The default value of `n_init` will change from 10 to 'auto' in 1.4. Set the value of `n_init` explicitly to suppress the warning\n",
      "  warnings.warn(\n"
     ]
    },
    {
     "name": "stdout",
     "output_type": "stream",
     "text": [
      "[[5.92557478e-05 9.48091965e-04 1.77767243e-04 ... 5.92557478e-05\n",
      "  0.00000000e+00 5.92557478e-05]\n",
      " [0.00000000e+00 3.95778364e-03 0.00000000e+00 ... 0.00000000e+00\n",
      "  1.31926121e-03 0.00000000e+00]\n",
      " [0.00000000e+00 0.00000000e+00 0.00000000e+00 ... 0.00000000e+00\n",
      "  0.00000000e+00 0.00000000e+00]\n",
      " [0.00000000e+00 0.00000000e+00 0.00000000e+00 ... 0.00000000e+00\n",
      "  0.00000000e+00 0.00000000e+00]\n",
      " [0.00000000e+00 0.00000000e+00 0.00000000e+00 ... 0.00000000e+00\n",
      "  0.00000000e+00 0.00000000e+00]\n",
      " [0.00000000e+00 0.00000000e+00 0.00000000e+00 ... 0.00000000e+00\n",
      "  0.00000000e+00 0.00000000e+00]]\n",
      "0.6130440275087023\n"
     ]
    },
    {
     "name": "stderr",
     "output_type": "stream",
     "text": [
      "/home/marzime/.pyenv/versions/3.8.12/envs/simplon/lib/python3.8/site-packages/sklearn/cluster/_kmeans.py:870: FutureWarning: The default value of `n_init` will change from 10 to 'auto' in 1.4. Set the value of `n_init` explicitly to suppress the warning\n",
      "  warnings.warn(\n"
     ]
    },
    {
     "ename": "KeyboardInterrupt",
     "evalue": "",
     "output_type": "error",
     "traceback": [
      "\u001b[0;31m---------------------------------------------------------------------------\u001b[0m",
      "\u001b[0;31mKeyboardInterrupt\u001b[0m                         Traceback (most recent call last)",
      "Cell \u001b[0;32mIn [23], line 4\u001b[0m\n\u001b[1;32m      2\u001b[0m model \u001b[38;5;241m=\u001b[39m KMeans(n_clusters \u001b[38;5;241m=\u001b[39m i, init\u001b[38;5;241m=\u001b[39m\u001b[38;5;124m'\u001b[39m\u001b[38;5;124mk-means++\u001b[39m\u001b[38;5;124m'\u001b[39m,random_state\u001b[38;5;241m=\u001b[39m\u001b[38;5;241m99\u001b[39m)\n\u001b[1;32m      3\u001b[0m model\u001b[38;5;241m.\u001b[39mfit(bow)\n\u001b[0;32m----> 4\u001b[0m \u001b[43mmodel_info\u001b[49m\u001b[43m(\u001b[49m\u001b[43mmodel\u001b[49m\u001b[43m,\u001b[49m\u001b[43m \u001b[49m\u001b[43mbow\u001b[49m\u001b[43m)\u001b[49m\n",
      "Cell \u001b[0;32mIn [22], line 9\u001b[0m, in \u001b[0;36mmodel_info\u001b[0;34m(model, vectorizer)\u001b[0m\n\u001b[1;32m      7\u001b[0m labels \u001b[38;5;241m=\u001b[39m model\u001b[38;5;241m.\u001b[39mlabels_\n\u001b[1;32m      8\u001b[0m cluster_center\u001b[38;5;241m=\u001b[39mmodel\u001b[38;5;241m.\u001b[39mcluster_centers_\n\u001b[0;32m----> 9\u001b[0m silhouette_score \u001b[38;5;241m=\u001b[39m \u001b[43mmetrics\u001b[49m\u001b[38;5;241;43m.\u001b[39;49m\u001b[43msilhouette_score\u001b[49m\u001b[43m(\u001b[49m\u001b[43mvectorizer\u001b[49m\u001b[43m,\u001b[49m\u001b[43m \u001b[49m\u001b[43mlabels\u001b[49m\u001b[43m,\u001b[49m\u001b[43m \u001b[49m\u001b[43mmetric\u001b[49m\u001b[38;5;241;43m=\u001b[39;49m\u001b[38;5;124;43m'\u001b[39;49m\u001b[38;5;124;43meuclidean\u001b[39;49m\u001b[38;5;124;43m'\u001b[39;49m\u001b[43m)\u001b[49m\n\u001b[1;32m     10\u001b[0m \u001b[38;5;28mprint\u001b[39m(cluster_center)\n\u001b[1;32m     11\u001b[0m \u001b[38;5;28mprint\u001b[39m(silhouette_score)\n",
      "File \u001b[0;32m~/.pyenv/versions/3.8.12/envs/simplon/lib/python3.8/site-packages/sklearn/metrics/cluster/_unsupervised.py:117\u001b[0m, in \u001b[0;36msilhouette_score\u001b[0;34m(X, labels, metric, sample_size, random_state, **kwds)\u001b[0m\n\u001b[1;32m    115\u001b[0m     \u001b[38;5;28;01melse\u001b[39;00m:\n\u001b[1;32m    116\u001b[0m         X, labels \u001b[38;5;241m=\u001b[39m X[indices], labels[indices]\n\u001b[0;32m--> 117\u001b[0m \u001b[38;5;28;01mreturn\u001b[39;00m np\u001b[38;5;241m.\u001b[39mmean(\u001b[43msilhouette_samples\u001b[49m\u001b[43m(\u001b[49m\u001b[43mX\u001b[49m\u001b[43m,\u001b[49m\u001b[43m \u001b[49m\u001b[43mlabels\u001b[49m\u001b[43m,\u001b[49m\u001b[43m \u001b[49m\u001b[43mmetric\u001b[49m\u001b[38;5;241;43m=\u001b[39;49m\u001b[43mmetric\u001b[49m\u001b[43m,\u001b[49m\u001b[43m \u001b[49m\u001b[38;5;241;43m*\u001b[39;49m\u001b[38;5;241;43m*\u001b[39;49m\u001b[43mkwds\u001b[49m\u001b[43m)\u001b[49m)\n",
      "File \u001b[0;32m~/.pyenv/versions/3.8.12/envs/simplon/lib/python3.8/site-packages/sklearn/metrics/cluster/_unsupervised.py:237\u001b[0m, in \u001b[0;36msilhouette_samples\u001b[0;34m(X, labels, metric, **kwds)\u001b[0m\n\u001b[1;32m    233\u001b[0m kwds[\u001b[38;5;124m\"\u001b[39m\u001b[38;5;124mmetric\u001b[39m\u001b[38;5;124m\"\u001b[39m] \u001b[38;5;241m=\u001b[39m metric\n\u001b[1;32m    234\u001b[0m reduce_func \u001b[38;5;241m=\u001b[39m functools\u001b[38;5;241m.\u001b[39mpartial(\n\u001b[1;32m    235\u001b[0m     _silhouette_reduce, labels\u001b[38;5;241m=\u001b[39mlabels, label_freqs\u001b[38;5;241m=\u001b[39mlabel_freqs\n\u001b[1;32m    236\u001b[0m )\n\u001b[0;32m--> 237\u001b[0m results \u001b[38;5;241m=\u001b[39m \u001b[38;5;28;43mzip\u001b[39;49m\u001b[43m(\u001b[49m\u001b[38;5;241;43m*\u001b[39;49m\u001b[43mpairwise_distances_chunked\u001b[49m\u001b[43m(\u001b[49m\u001b[43mX\u001b[49m\u001b[43m,\u001b[49m\u001b[43m \u001b[49m\u001b[43mreduce_func\u001b[49m\u001b[38;5;241;43m=\u001b[39;49m\u001b[43mreduce_func\u001b[49m\u001b[43m,\u001b[49m\u001b[43m \u001b[49m\u001b[38;5;241;43m*\u001b[39;49m\u001b[38;5;241;43m*\u001b[39;49m\u001b[43mkwds\u001b[49m\u001b[43m)\u001b[49m\u001b[43m)\u001b[49m\n\u001b[1;32m    238\u001b[0m intra_clust_dists, inter_clust_dists \u001b[38;5;241m=\u001b[39m results\n\u001b[1;32m    239\u001b[0m intra_clust_dists \u001b[38;5;241m=\u001b[39m np\u001b[38;5;241m.\u001b[39mconcatenate(intra_clust_dists)\n",
      "File \u001b[0;32m~/.pyenv/versions/3.8.12/envs/simplon/lib/python3.8/site-packages/sklearn/metrics/pairwise.py:1867\u001b[0m, in \u001b[0;36mpairwise_distances_chunked\u001b[0;34m(X, Y, reduce_func, metric, n_jobs, working_memory, **kwds)\u001b[0m\n\u001b[1;32m   1865\u001b[0m \u001b[38;5;28;01melse\u001b[39;00m:\n\u001b[1;32m   1866\u001b[0m     X_chunk \u001b[38;5;241m=\u001b[39m X[sl]\n\u001b[0;32m-> 1867\u001b[0m D_chunk \u001b[38;5;241m=\u001b[39m \u001b[43mpairwise_distances\u001b[49m\u001b[43m(\u001b[49m\u001b[43mX_chunk\u001b[49m\u001b[43m,\u001b[49m\u001b[43m \u001b[49m\u001b[43mY\u001b[49m\u001b[43m,\u001b[49m\u001b[43m \u001b[49m\u001b[43mmetric\u001b[49m\u001b[38;5;241;43m=\u001b[39;49m\u001b[43mmetric\u001b[49m\u001b[43m,\u001b[49m\u001b[43m \u001b[49m\u001b[43mn_jobs\u001b[49m\u001b[38;5;241;43m=\u001b[39;49m\u001b[43mn_jobs\u001b[49m\u001b[43m,\u001b[49m\u001b[43m \u001b[49m\u001b[38;5;241;43m*\u001b[39;49m\u001b[38;5;241;43m*\u001b[39;49m\u001b[43mkwds\u001b[49m\u001b[43m)\u001b[49m\n\u001b[1;32m   1868\u001b[0m \u001b[38;5;28;01mif\u001b[39;00m (X \u001b[38;5;129;01mis\u001b[39;00m Y \u001b[38;5;129;01mor\u001b[39;00m Y \u001b[38;5;129;01mis\u001b[39;00m \u001b[38;5;28;01mNone\u001b[39;00m) \u001b[38;5;129;01mand\u001b[39;00m PAIRWISE_DISTANCE_FUNCTIONS\u001b[38;5;241m.\u001b[39mget(\n\u001b[1;32m   1869\u001b[0m     metric, \u001b[38;5;28;01mNone\u001b[39;00m\n\u001b[1;32m   1870\u001b[0m ) \u001b[38;5;129;01mis\u001b[39;00m euclidean_distances:\n\u001b[1;32m   1871\u001b[0m     \u001b[38;5;66;03m# zeroing diagonal, taking care of aliases of \"euclidean\",\u001b[39;00m\n\u001b[1;32m   1872\u001b[0m     \u001b[38;5;66;03m# i.e. \"l2\"\u001b[39;00m\n\u001b[1;32m   1873\u001b[0m     D_chunk\u001b[38;5;241m.\u001b[39mflat[sl\u001b[38;5;241m.\u001b[39mstart :: _num_samples(X) \u001b[38;5;241m+\u001b[39m \u001b[38;5;241m1\u001b[39m] \u001b[38;5;241m=\u001b[39m \u001b[38;5;241m0\u001b[39m\n",
      "File \u001b[0;32m~/.pyenv/versions/3.8.12/envs/simplon/lib/python3.8/site-packages/sklearn/metrics/pairwise.py:2039\u001b[0m, in \u001b[0;36mpairwise_distances\u001b[0;34m(X, Y, metric, n_jobs, force_all_finite, **kwds)\u001b[0m\n\u001b[1;32m   2036\u001b[0m         \u001b[38;5;28;01mreturn\u001b[39;00m distance\u001b[38;5;241m.\u001b[39msquareform(distance\u001b[38;5;241m.\u001b[39mpdist(X, metric\u001b[38;5;241m=\u001b[39mmetric, \u001b[38;5;241m*\u001b[39m\u001b[38;5;241m*\u001b[39mkwds))\n\u001b[1;32m   2037\u001b[0m     func \u001b[38;5;241m=\u001b[39m partial(distance\u001b[38;5;241m.\u001b[39mcdist, metric\u001b[38;5;241m=\u001b[39mmetric, \u001b[38;5;241m*\u001b[39m\u001b[38;5;241m*\u001b[39mkwds)\n\u001b[0;32m-> 2039\u001b[0m \u001b[38;5;28;01mreturn\u001b[39;00m \u001b[43m_parallel_pairwise\u001b[49m\u001b[43m(\u001b[49m\u001b[43mX\u001b[49m\u001b[43m,\u001b[49m\u001b[43m \u001b[49m\u001b[43mY\u001b[49m\u001b[43m,\u001b[49m\u001b[43m \u001b[49m\u001b[43mfunc\u001b[49m\u001b[43m,\u001b[49m\u001b[43m \u001b[49m\u001b[43mn_jobs\u001b[49m\u001b[43m,\u001b[49m\u001b[43m \u001b[49m\u001b[38;5;241;43m*\u001b[39;49m\u001b[38;5;241;43m*\u001b[39;49m\u001b[43mkwds\u001b[49m\u001b[43m)\u001b[49m\n",
      "File \u001b[0;32m~/.pyenv/versions/3.8.12/envs/simplon/lib/python3.8/site-packages/sklearn/metrics/pairwise.py:1579\u001b[0m, in \u001b[0;36m_parallel_pairwise\u001b[0;34m(X, Y, func, n_jobs, **kwds)\u001b[0m\n\u001b[1;32m   1576\u001b[0m X, Y, dtype \u001b[38;5;241m=\u001b[39m _return_float_dtype(X, Y)\n\u001b[1;32m   1578\u001b[0m \u001b[38;5;28;01mif\u001b[39;00m effective_n_jobs(n_jobs) \u001b[38;5;241m==\u001b[39m \u001b[38;5;241m1\u001b[39m:\n\u001b[0;32m-> 1579\u001b[0m     \u001b[38;5;28;01mreturn\u001b[39;00m \u001b[43mfunc\u001b[49m\u001b[43m(\u001b[49m\u001b[43mX\u001b[49m\u001b[43m,\u001b[49m\u001b[43m \u001b[49m\u001b[43mY\u001b[49m\u001b[43m,\u001b[49m\u001b[43m \u001b[49m\u001b[38;5;241;43m*\u001b[39;49m\u001b[38;5;241;43m*\u001b[39;49m\u001b[43mkwds\u001b[49m\u001b[43m)\u001b[49m\n\u001b[1;32m   1581\u001b[0m \u001b[38;5;66;03m# enforce a threading backend to prevent data communication overhead\u001b[39;00m\n\u001b[1;32m   1582\u001b[0m fd \u001b[38;5;241m=\u001b[39m delayed(_dist_wrapper)\n",
      "File \u001b[0;32m~/.pyenv/versions/3.8.12/envs/simplon/lib/python3.8/site-packages/sklearn/metrics/pairwise.py:328\u001b[0m, in \u001b[0;36meuclidean_distances\u001b[0;34m(X, Y, Y_norm_squared, squared, X_norm_squared)\u001b[0m\n\u001b[1;32m    322\u001b[0m     \u001b[38;5;28;01mif\u001b[39;00m Y_norm_squared\u001b[38;5;241m.\u001b[39mshape \u001b[38;5;241m!=\u001b[39m (\u001b[38;5;241m1\u001b[39m, Y\u001b[38;5;241m.\u001b[39mshape[\u001b[38;5;241m0\u001b[39m]):\n\u001b[1;32m    323\u001b[0m         \u001b[38;5;28;01mraise\u001b[39;00m \u001b[38;5;167;01mValueError\u001b[39;00m(\n\u001b[1;32m    324\u001b[0m             \u001b[38;5;124mf\u001b[39m\u001b[38;5;124m\"\u001b[39m\u001b[38;5;124mIncompatible dimensions for Y of shape \u001b[39m\u001b[38;5;132;01m{\u001b[39;00mY\u001b[38;5;241m.\u001b[39mshape\u001b[38;5;132;01m}\u001b[39;00m\u001b[38;5;124m and \u001b[39m\u001b[38;5;124m\"\u001b[39m\n\u001b[1;32m    325\u001b[0m             \u001b[38;5;124mf\u001b[39m\u001b[38;5;124m\"\u001b[39m\u001b[38;5;124mY_norm_squared of shape \u001b[39m\u001b[38;5;132;01m{\u001b[39;00moriginal_shape\u001b[38;5;132;01m}\u001b[39;00m\u001b[38;5;124m.\u001b[39m\u001b[38;5;124m\"\u001b[39m\n\u001b[1;32m    326\u001b[0m         )\n\u001b[0;32m--> 328\u001b[0m \u001b[38;5;28;01mreturn\u001b[39;00m \u001b[43m_euclidean_distances\u001b[49m\u001b[43m(\u001b[49m\u001b[43mX\u001b[49m\u001b[43m,\u001b[49m\u001b[43m \u001b[49m\u001b[43mY\u001b[49m\u001b[43m,\u001b[49m\u001b[43m \u001b[49m\u001b[43mX_norm_squared\u001b[49m\u001b[43m,\u001b[49m\u001b[43m \u001b[49m\u001b[43mY_norm_squared\u001b[49m\u001b[43m,\u001b[49m\u001b[43m \u001b[49m\u001b[43msquared\u001b[49m\u001b[43m)\u001b[49m\n",
      "File \u001b[0;32m~/.pyenv/versions/3.8.12/envs/simplon/lib/python3.8/site-packages/sklearn/metrics/pairwise.py:369\u001b[0m, in \u001b[0;36m_euclidean_distances\u001b[0;34m(X, Y, X_norm_squared, Y_norm_squared, squared)\u001b[0m\n\u001b[1;32m    366\u001b[0m     distances \u001b[38;5;241m=\u001b[39m _euclidean_distances_upcast(X, XX, Y, YY)\n\u001b[1;32m    367\u001b[0m \u001b[38;5;28;01melse\u001b[39;00m:\n\u001b[1;32m    368\u001b[0m     \u001b[38;5;66;03m# if dtype is already float64, no need to chunk and upcast\u001b[39;00m\n\u001b[0;32m--> 369\u001b[0m     distances \u001b[38;5;241m=\u001b[39m \u001b[38;5;241m-\u001b[39m\u001b[38;5;241m2\u001b[39m \u001b[38;5;241m*\u001b[39m \u001b[43msafe_sparse_dot\u001b[49m\u001b[43m(\u001b[49m\u001b[43mX\u001b[49m\u001b[43m,\u001b[49m\u001b[43m \u001b[49m\u001b[43mY\u001b[49m\u001b[38;5;241;43m.\u001b[39;49m\u001b[43mT\u001b[49m\u001b[43m,\u001b[49m\u001b[43m \u001b[49m\u001b[43mdense_output\u001b[49m\u001b[38;5;241;43m=\u001b[39;49m\u001b[38;5;28;43;01mTrue\u001b[39;49;00m\u001b[43m)\u001b[49m\n\u001b[1;32m    370\u001b[0m     distances \u001b[38;5;241m+\u001b[39m\u001b[38;5;241m=\u001b[39m XX\n\u001b[1;32m    371\u001b[0m     distances \u001b[38;5;241m+\u001b[39m\u001b[38;5;241m=\u001b[39m YY\n",
      "File \u001b[0;32m~/.pyenv/versions/3.8.12/envs/simplon/lib/python3.8/site-packages/sklearn/utils/extmath.py:189\u001b[0m, in \u001b[0;36msafe_sparse_dot\u001b[0;34m(a, b, dense_output)\u001b[0m\n\u001b[1;32m    187\u001b[0m         ret \u001b[38;5;241m=\u001b[39m np\u001b[38;5;241m.\u001b[39mdot(a, b)\n\u001b[1;32m    188\u001b[0m \u001b[38;5;28;01melse\u001b[39;00m:\n\u001b[0;32m--> 189\u001b[0m     ret \u001b[38;5;241m=\u001b[39m \u001b[43ma\u001b[49m\u001b[43m \u001b[49m\u001b[38;5;241;43m@\u001b[39;49m\u001b[43m \u001b[49m\u001b[43mb\u001b[49m\n\u001b[1;32m    191\u001b[0m \u001b[38;5;28;01mif\u001b[39;00m (\n\u001b[1;32m    192\u001b[0m     sparse\u001b[38;5;241m.\u001b[39missparse(a)\n\u001b[1;32m    193\u001b[0m     \u001b[38;5;129;01mand\u001b[39;00m sparse\u001b[38;5;241m.\u001b[39missparse(b)\n\u001b[1;32m    194\u001b[0m     \u001b[38;5;129;01mand\u001b[39;00m dense_output\n\u001b[1;32m    195\u001b[0m     \u001b[38;5;129;01mand\u001b[39;00m \u001b[38;5;28mhasattr\u001b[39m(ret, \u001b[38;5;124m\"\u001b[39m\u001b[38;5;124mtoarray\u001b[39m\u001b[38;5;124m\"\u001b[39m)\n\u001b[1;32m    196\u001b[0m ):\n\u001b[1;32m    197\u001b[0m     \u001b[38;5;28;01mreturn\u001b[39;00m ret\u001b[38;5;241m.\u001b[39mtoarray()\n",
      "File \u001b[0;32m~/.pyenv/versions/3.8.12/envs/simplon/lib/python3.8/site-packages/scipy/sparse/_base.py:623\u001b[0m, in \u001b[0;36mspmatrix.__matmul__\u001b[0;34m(self, other)\u001b[0m\n\u001b[1;32m    620\u001b[0m \u001b[38;5;28;01mif\u001b[39;00m isscalarlike(other):\n\u001b[1;32m    621\u001b[0m     \u001b[38;5;28;01mraise\u001b[39;00m \u001b[38;5;167;01mValueError\u001b[39;00m(\u001b[38;5;124m\"\u001b[39m\u001b[38;5;124mScalar operands are not allowed, \u001b[39m\u001b[38;5;124m\"\u001b[39m\n\u001b[1;32m    622\u001b[0m                      \u001b[38;5;124m\"\u001b[39m\u001b[38;5;124muse \u001b[39m\u001b[38;5;124m'\u001b[39m\u001b[38;5;124m*\u001b[39m\u001b[38;5;124m'\u001b[39m\u001b[38;5;124m instead\u001b[39m\u001b[38;5;124m\"\u001b[39m)\n\u001b[0;32m--> 623\u001b[0m \u001b[38;5;28;01mreturn\u001b[39;00m \u001b[38;5;28;43mself\u001b[39;49m\u001b[38;5;241;43m.\u001b[39;49m\u001b[43m_mul_dispatch\u001b[49m\u001b[43m(\u001b[49m\u001b[43mother\u001b[49m\u001b[43m)\u001b[49m\n",
      "File \u001b[0;32m~/.pyenv/versions/3.8.12/envs/simplon/lib/python3.8/site-packages/scipy/sparse/_base.py:537\u001b[0m, in \u001b[0;36mspmatrix._mul_dispatch\u001b[0;34m(self, other)\u001b[0m\n\u001b[1;32m    535\u001b[0m     \u001b[38;5;28;01mif\u001b[39;00m \u001b[38;5;28mself\u001b[39m\u001b[38;5;241m.\u001b[39mshape[\u001b[38;5;241m1\u001b[39m] \u001b[38;5;241m!=\u001b[39m other\u001b[38;5;241m.\u001b[39mshape[\u001b[38;5;241m0\u001b[39m]:\n\u001b[1;32m    536\u001b[0m         \u001b[38;5;28;01mraise\u001b[39;00m \u001b[38;5;167;01mValueError\u001b[39;00m(\u001b[38;5;124m'\u001b[39m\u001b[38;5;124mdimension mismatch\u001b[39m\u001b[38;5;124m'\u001b[39m)\n\u001b[0;32m--> 537\u001b[0m     \u001b[38;5;28;01mreturn\u001b[39;00m \u001b[38;5;28;43mself\u001b[39;49m\u001b[38;5;241;43m.\u001b[39;49m\u001b[43m_mul_sparse_matrix\u001b[49m\u001b[43m(\u001b[49m\u001b[43mother\u001b[49m\u001b[43m)\u001b[49m\n\u001b[1;32m    539\u001b[0m \u001b[38;5;66;03m# If it's a list or whatever, treat it like a matrix\u001b[39;00m\n\u001b[1;32m    540\u001b[0m other_a \u001b[38;5;241m=\u001b[39m np\u001b[38;5;241m.\u001b[39masanyarray(other)\n",
      "File \u001b[0;32m~/.pyenv/versions/3.8.12/envs/simplon/lib/python3.8/site-packages/scipy/sparse/_compressed.py:533\u001b[0m, in \u001b[0;36m_cs_matrix._mul_sparse_matrix\u001b[0;34m(self, other)\u001b[0m\n\u001b[1;32m    530\u001b[0m data \u001b[38;5;241m=\u001b[39m np\u001b[38;5;241m.\u001b[39mempty(nnz, dtype\u001b[38;5;241m=\u001b[39mupcast(\u001b[38;5;28mself\u001b[39m\u001b[38;5;241m.\u001b[39mdtype, other\u001b[38;5;241m.\u001b[39mdtype))\n\u001b[1;32m    532\u001b[0m fn \u001b[38;5;241m=\u001b[39m \u001b[38;5;28mgetattr\u001b[39m(_sparsetools, \u001b[38;5;28mself\u001b[39m\u001b[38;5;241m.\u001b[39mformat \u001b[38;5;241m+\u001b[39m \u001b[38;5;124m'\u001b[39m\u001b[38;5;124m_matmat\u001b[39m\u001b[38;5;124m'\u001b[39m)\n\u001b[0;32m--> 533\u001b[0m \u001b[43mfn\u001b[49m\u001b[43m(\u001b[49m\u001b[43mM\u001b[49m\u001b[43m,\u001b[49m\u001b[43m \u001b[49m\u001b[43mN\u001b[49m\u001b[43m,\u001b[49m\u001b[43m \u001b[49m\u001b[43mnp\u001b[49m\u001b[38;5;241;43m.\u001b[39;49m\u001b[43masarray\u001b[49m\u001b[43m(\u001b[49m\u001b[38;5;28;43mself\u001b[39;49m\u001b[38;5;241;43m.\u001b[39;49m\u001b[43mindptr\u001b[49m\u001b[43m,\u001b[49m\u001b[43m \u001b[49m\u001b[43mdtype\u001b[49m\u001b[38;5;241;43m=\u001b[39;49m\u001b[43midx_dtype\u001b[49m\u001b[43m)\u001b[49m\u001b[43m,\u001b[49m\n\u001b[1;32m    534\u001b[0m \u001b[43m   \u001b[49m\u001b[43mnp\u001b[49m\u001b[38;5;241;43m.\u001b[39;49m\u001b[43masarray\u001b[49m\u001b[43m(\u001b[49m\u001b[38;5;28;43mself\u001b[39;49m\u001b[38;5;241;43m.\u001b[39;49m\u001b[43mindices\u001b[49m\u001b[43m,\u001b[49m\u001b[43m \u001b[49m\u001b[43mdtype\u001b[49m\u001b[38;5;241;43m=\u001b[39;49m\u001b[43midx_dtype\u001b[49m\u001b[43m)\u001b[49m\u001b[43m,\u001b[49m\n\u001b[1;32m    535\u001b[0m \u001b[43m   \u001b[49m\u001b[38;5;28;43mself\u001b[39;49m\u001b[38;5;241;43m.\u001b[39;49m\u001b[43mdata\u001b[49m\u001b[43m,\u001b[49m\n\u001b[1;32m    536\u001b[0m \u001b[43m   \u001b[49m\u001b[43mnp\u001b[49m\u001b[38;5;241;43m.\u001b[39;49m\u001b[43masarray\u001b[49m\u001b[43m(\u001b[49m\u001b[43mother\u001b[49m\u001b[38;5;241;43m.\u001b[39;49m\u001b[43mindptr\u001b[49m\u001b[43m,\u001b[49m\u001b[43m \u001b[49m\u001b[43mdtype\u001b[49m\u001b[38;5;241;43m=\u001b[39;49m\u001b[43midx_dtype\u001b[49m\u001b[43m)\u001b[49m\u001b[43m,\u001b[49m\n\u001b[1;32m    537\u001b[0m \u001b[43m   \u001b[49m\u001b[43mnp\u001b[49m\u001b[38;5;241;43m.\u001b[39;49m\u001b[43masarray\u001b[49m\u001b[43m(\u001b[49m\u001b[43mother\u001b[49m\u001b[38;5;241;43m.\u001b[39;49m\u001b[43mindices\u001b[49m\u001b[43m,\u001b[49m\u001b[43m \u001b[49m\u001b[43mdtype\u001b[49m\u001b[38;5;241;43m=\u001b[39;49m\u001b[43midx_dtype\u001b[49m\u001b[43m)\u001b[49m\u001b[43m,\u001b[49m\n\u001b[1;32m    538\u001b[0m \u001b[43m   \u001b[49m\u001b[43mother\u001b[49m\u001b[38;5;241;43m.\u001b[39;49m\u001b[43mdata\u001b[49m\u001b[43m,\u001b[49m\n\u001b[1;32m    539\u001b[0m \u001b[43m   \u001b[49m\u001b[43mindptr\u001b[49m\u001b[43m,\u001b[49m\u001b[43m \u001b[49m\u001b[43mindices\u001b[49m\u001b[43m,\u001b[49m\u001b[43m \u001b[49m\u001b[43mdata\u001b[49m\u001b[43m)\u001b[49m\n\u001b[1;32m    541\u001b[0m \u001b[38;5;28;01mreturn\u001b[39;00m \u001b[38;5;28mself\u001b[39m\u001b[38;5;241m.\u001b[39m\u001b[38;5;18m__class__\u001b[39m((data, indices, indptr), shape\u001b[38;5;241m=\u001b[39m(M, N))\n",
      "\u001b[0;31mKeyboardInterrupt\u001b[0m: "
     ]
    }
   ],
   "source": [
    "silhouette(bow)"
   ]
  },
  {
   "cell_type": "code",
   "execution_count": null,
   "id": "e0cdd901",
   "metadata": {},
   "outputs": [],
   "source": [
    "model = KMeans(n_clusters = 10, init='k-means++',random_state=99)\n",
    "model.fit(bow)"
   ]
  },
  {
   "cell_type": "code",
   "execution_count": null,
   "id": "81dc378e",
   "metadata": {},
   "outputs": [],
   "source": [
    "model_info(model, bow)"
   ]
  },
  {
   "cell_type": "code",
   "execution_count": null,
   "id": "75b8b03e",
   "metadata": {},
   "outputs": [],
   "source": [
    "df['Bow Clus Label'] = model.labels_ # the last column you can see the label numebers\n",
    "df"
   ]
  },
  {
   "cell_type": "code",
   "execution_count": null,
   "id": "840ced49",
   "metadata": {},
   "outputs": [],
   "source": [
    "cluster_info(df, 'Bow Clus Label', 'text', count_vect, model, 10)"
   ]
  },
  {
   "cell_type": "markdown",
   "id": "5d1bb120",
   "metadata": {},
   "source": [
    "# TF-IDF"
   ]
  },
  {
   "cell_type": "code",
   "execution_count": null,
   "id": "e6d4d51a",
   "metadata": {},
   "outputs": [],
   "source": [
    "tfidf_vect = TfidfVectorizer()\n",
    "tfidf = tfidf_vect.fit_transform(df['Text'].values)"
   ]
  },
  {
   "cell_type": "code",
   "execution_count": null,
   "id": "4a76e250",
   "metadata": {},
   "outputs": [],
   "source": [
    "vectorizer_info(tfidf)"
   ]
  },
  {
   "cell_type": "code",
   "execution_count": null,
   "id": "d9b1e65c",
   "metadata": {},
   "outputs": [],
   "source": [
    "silhouette(tfidf)"
   ]
  },
  {
   "cell_type": "code",
   "execution_count": null,
   "id": "d447c8cd",
   "metadata": {},
   "outputs": [],
   "source": [
    "model_tf = KMeans(n_clusters = 10, init='k-means++',random_state=99)\n",
    "model_tf.fit(tfidf)"
   ]
  },
  {
   "cell_type": "code",
   "execution_count": null,
   "id": "ab1d1287",
   "metadata": {},
   "outputs": [],
   "source": [
    "model_info(model_tf, tfidf)"
   ]
  },
  {
   "cell_type": "code",
   "execution_count": null,
   "id": "e2838ec8",
   "metadata": {},
   "outputs": [],
   "source": [
    "df['Tfidf Clus Label'] = model_tf.labels_\n",
    "df"
   ]
  },
  {
   "cell_type": "code",
   "execution_count": null,
   "id": "11fd2978",
   "metadata": {},
   "outputs": [],
   "source": [
    "cluster_info(data, 'Tfidf Clus Label', 'Text', tfidf, model_tf, 10)"
   ]
  }
 ],
 "metadata": {
  "kernelspec": {
   "display_name": "Python 3 (ipykernel)",
   "language": "python",
   "name": "python3"
  },
  "language_info": {
   "codemirror_mode": {
    "name": "ipython",
    "version": 3
   },
   "file_extension": ".py",
   "mimetype": "text/x-python",
   "name": "python",
   "nbconvert_exporter": "python",
   "pygments_lexer": "ipython3",
   "version": "3.8.12"
  },
  "toc": {
   "base_numbering": 1,
   "nav_menu": {},
   "number_sections": true,
   "sideBar": true,
   "skip_h1_title": false,
   "title_cell": "Table of Contents",
   "title_sidebar": "Contents",
   "toc_cell": false,
   "toc_position": {},
   "toc_section_display": true,
   "toc_window_display": false
  }
 },
 "nbformat": 4,
 "nbformat_minor": 5
}
